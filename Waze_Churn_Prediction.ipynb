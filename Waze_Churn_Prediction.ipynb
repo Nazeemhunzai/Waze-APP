{
 "cells": [
  {
   "cell_type": "markdown",
   "id": "53029715",
   "metadata": {},
   "source": [
    "# Predicting churn rate at Waze app using Random Forest and  XGboost Models\n",
    "\n",
    "## PACE: Plan Stage \n",
    "\n",
    "**Introduction :** \n",
    "Waze is a community driven navigation map. It uses real time data from the app users to provide the best route to user destination taking in to account accidents, traffic jam, speed traps, construction and other obsticles. \n",
    "\n",
    "**Objective :**\n",
    "The purpose of this project is to demostrate Exploratory Data Analysis on the data set for Waze in order to understand the churn rate amongst the users, to extract actionable ingsights and to develop a machine learning model that would predict the churn rate. We will use the PACE framework for EDA and developing machine learning model"
   ]
  },
  {
   "cell_type": "markdown",
   "id": "9765da4e",
   "metadata": {},
   "source": [
    "### Step1: Imports "
   ]
  },
  {
   "cell_type": "markdown",
   "id": "aa95a35e",
   "metadata": {},
   "source": [
    "#### Import packages \n",
    "In order to perform EDA and develop a machine learning algorithms, we will first start by importing the necessary packages to load the dataset"
   ]
  },
  {
   "cell_type": "code",
   "execution_count": 1,
   "id": "0d231379",
   "metadata": {},
   "outputs": [],
   "source": [
    "import pandas as pd\n",
    "import seaborn as sns\n",
    "import matplotlib.pyplot as plt\n",
    "import numpy as np\n",
    "#Importing packages for data modelling\n",
    "from sklearn.model_selection import GridSearchCV, train_test_split\n",
    "from sklearn.metrics import roc_auc_score, roc_curve,auc\n",
    "from sklearn.metrics import accuracy_score, recall_score, precision_score, f1_score,\\\n",
    "confusion_matrix, ConfusionMatrixDisplay,PrecisionRecallDisplay,RocCurveDisplay\n",
    "from sklearn.ensemble import RandomForestClassifier\n",
    "from xgboost import XGBClassifier\n",
    "#function to plot feature importance\n",
    "from xgboost import plot_importance\n",
    "import pickle"
   ]
  },
  {
   "cell_type": "code",
   "execution_count": 2,
   "id": "3e07b89f",
   "metadata": {},
   "outputs": [
    {
     "data": {
      "text/html": [
       "<div>\n",
       "<style scoped>\n",
       "    .dataframe tbody tr th:only-of-type {\n",
       "        vertical-align: middle;\n",
       "    }\n",
       "\n",
       "    .dataframe tbody tr th {\n",
       "        vertical-align: top;\n",
       "    }\n",
       "\n",
       "    .dataframe thead th {\n",
       "        text-align: right;\n",
       "    }\n",
       "</style>\n",
       "<table border=\"1\" class=\"dataframe\">\n",
       "  <thead>\n",
       "    <tr style=\"text-align: right;\">\n",
       "      <th></th>\n",
       "      <th>ID</th>\n",
       "      <th>label</th>\n",
       "      <th>sessions</th>\n",
       "      <th>drives</th>\n",
       "      <th>total_sessions</th>\n",
       "      <th>n_days_after_onboarding</th>\n",
       "      <th>total_navigations_fav1</th>\n",
       "      <th>total_navigations_fav2</th>\n",
       "      <th>driven_km_drives</th>\n",
       "      <th>duration_minutes_drives</th>\n",
       "      <th>activity_days</th>\n",
       "      <th>driving_days</th>\n",
       "      <th>device</th>\n",
       "    </tr>\n",
       "  </thead>\n",
       "  <tbody>\n",
       "    <tr>\n",
       "      <th>0</th>\n",
       "      <td>0</td>\n",
       "      <td>retained</td>\n",
       "      <td>283</td>\n",
       "      <td>226</td>\n",
       "      <td>296.748273</td>\n",
       "      <td>2276</td>\n",
       "      <td>208</td>\n",
       "      <td>0</td>\n",
       "      <td>2628.845068</td>\n",
       "      <td>1985.775061</td>\n",
       "      <td>28</td>\n",
       "      <td>19</td>\n",
       "      <td>Android</td>\n",
       "    </tr>\n",
       "    <tr>\n",
       "      <th>1</th>\n",
       "      <td>1</td>\n",
       "      <td>retained</td>\n",
       "      <td>133</td>\n",
       "      <td>107</td>\n",
       "      <td>326.896596</td>\n",
       "      <td>1225</td>\n",
       "      <td>19</td>\n",
       "      <td>64</td>\n",
       "      <td>13715.920550</td>\n",
       "      <td>3160.472914</td>\n",
       "      <td>13</td>\n",
       "      <td>11</td>\n",
       "      <td>iPhone</td>\n",
       "    </tr>\n",
       "    <tr>\n",
       "      <th>2</th>\n",
       "      <td>2</td>\n",
       "      <td>retained</td>\n",
       "      <td>114</td>\n",
       "      <td>95</td>\n",
       "      <td>135.522926</td>\n",
       "      <td>2651</td>\n",
       "      <td>0</td>\n",
       "      <td>0</td>\n",
       "      <td>3059.148818</td>\n",
       "      <td>1610.735904</td>\n",
       "      <td>14</td>\n",
       "      <td>8</td>\n",
       "      <td>Android</td>\n",
       "    </tr>\n",
       "    <tr>\n",
       "      <th>3</th>\n",
       "      <td>3</td>\n",
       "      <td>retained</td>\n",
       "      <td>49</td>\n",
       "      <td>40</td>\n",
       "      <td>67.589221</td>\n",
       "      <td>15</td>\n",
       "      <td>322</td>\n",
       "      <td>7</td>\n",
       "      <td>913.591123</td>\n",
       "      <td>587.196542</td>\n",
       "      <td>7</td>\n",
       "      <td>3</td>\n",
       "      <td>iPhone</td>\n",
       "    </tr>\n",
       "    <tr>\n",
       "      <th>4</th>\n",
       "      <td>4</td>\n",
       "      <td>retained</td>\n",
       "      <td>84</td>\n",
       "      <td>68</td>\n",
       "      <td>168.247020</td>\n",
       "      <td>1562</td>\n",
       "      <td>166</td>\n",
       "      <td>5</td>\n",
       "      <td>3950.202008</td>\n",
       "      <td>1219.555924</td>\n",
       "      <td>27</td>\n",
       "      <td>18</td>\n",
       "      <td>Android</td>\n",
       "    </tr>\n",
       "  </tbody>\n",
       "</table>\n",
       "</div>"
      ],
      "text/plain": [
       "   ID     label  sessions  drives  total_sessions  n_days_after_onboarding  \\\n",
       "0   0  retained       283     226      296.748273                     2276   \n",
       "1   1  retained       133     107      326.896596                     1225   \n",
       "2   2  retained       114      95      135.522926                     2651   \n",
       "3   3  retained        49      40       67.589221                       15   \n",
       "4   4  retained        84      68      168.247020                     1562   \n",
       "\n",
       "   total_navigations_fav1  total_navigations_fav2  driven_km_drives  \\\n",
       "0                     208                       0       2628.845068   \n",
       "1                      19                      64      13715.920550   \n",
       "2                       0                       0       3059.148818   \n",
       "3                     322                       7        913.591123   \n",
       "4                     166                       5       3950.202008   \n",
       "\n",
       "   duration_minutes_drives  activity_days  driving_days   device  \n",
       "0              1985.775061             28            19  Android  \n",
       "1              3160.472914             13            11   iPhone  \n",
       "2              1610.735904             14             8  Android  \n",
       "3               587.196542              7             3   iPhone  \n",
       "4              1219.555924             27            18  Android  "
      ]
     },
     "execution_count": 2,
     "metadata": {},
     "output_type": "execute_result"
    }
   ],
   "source": [
    "df=pd.read_csv('waze_dataset.csv')\n",
    "df.head()"
   ]
  },
  {
   "cell_type": "markdown",
   "id": "92bde5a3",
   "metadata": {},
   "source": [
    "### Step 2 : Data exploration "
   ]
  },
  {
   "cell_type": "markdown",
   "id": "8153a5be",
   "metadata": {},
   "source": [
    "- Understanding the variables\n",
    "- Cleaning the data "
   ]
  },
  {
   "cell_type": "markdown",
   "id": "d298dbfa",
   "metadata": {},
   "source": [
    "#### Gathering basic information about the data\n",
    "\n",
    "We will use `shape`, `size` and `info()` function to get the basic information about the data."
   ]
  },
  {
   "cell_type": "code",
   "execution_count": 3,
   "id": "77d85d2d",
   "metadata": {},
   "outputs": [
    {
     "data": {
      "text/plain": [
       "194987"
      ]
     },
     "execution_count": 3,
     "metadata": {},
     "output_type": "execute_result"
    }
   ],
   "source": [
    "df.size"
   ]
  },
  {
   "cell_type": "code",
   "execution_count": 4,
   "id": "bcceab5c",
   "metadata": {},
   "outputs": [
    {
     "data": {
      "text/plain": [
       "(14999, 13)"
      ]
     },
     "execution_count": 4,
     "metadata": {},
     "output_type": "execute_result"
    }
   ],
   "source": [
    "df.shape"
   ]
  },
  {
   "cell_type": "code",
   "execution_count": 5,
   "id": "6e523c4c",
   "metadata": {},
   "outputs": [
    {
     "name": "stdout",
     "output_type": "stream",
     "text": [
      "<class 'pandas.core.frame.DataFrame'>\n",
      "RangeIndex: 14999 entries, 0 to 14998\n",
      "Data columns (total 13 columns):\n",
      " #   Column                   Non-Null Count  Dtype  \n",
      "---  ------                   --------------  -----  \n",
      " 0   ID                       14999 non-null  int64  \n",
      " 1   label                    14299 non-null  object \n",
      " 2   sessions                 14999 non-null  int64  \n",
      " 3   drives                   14999 non-null  int64  \n",
      " 4   total_sessions           14999 non-null  float64\n",
      " 5   n_days_after_onboarding  14999 non-null  int64  \n",
      " 6   total_navigations_fav1   14999 non-null  int64  \n",
      " 7   total_navigations_fav2   14999 non-null  int64  \n",
      " 8   driven_km_drives         14999 non-null  float64\n",
      " 9   duration_minutes_drives  14999 non-null  float64\n",
      " 10  activity_days            14999 non-null  int64  \n",
      " 11  driving_days             14999 non-null  int64  \n",
      " 12  device                   14999 non-null  object \n",
      "dtypes: float64(3), int64(8), object(2)\n",
      "memory usage: 1.5+ MB\n"
     ]
    }
   ],
   "source": [
    "df.info()"
   ]
  },
  {
   "cell_type": "code",
   "execution_count": 6,
   "id": "96dc4dfa",
   "metadata": {},
   "outputs": [
    {
     "data": {
      "text/plain": [
       "Index(['ID', 'label', 'sessions', 'drives', 'total_sessions',\n",
       "       'n_days_after_onboarding', 'total_navigations_fav1',\n",
       "       'total_navigations_fav2', 'driven_km_drives', 'duration_minutes_drives',\n",
       "       'activity_days', 'driving_days', 'device'],\n",
       "      dtype='object')"
      ]
     },
     "execution_count": 6,
     "metadata": {},
     "output_type": "execute_result"
    }
   ],
   "source": [
    "#Checking column names\n",
    "df.columns"
   ]
  },
  {
   "cell_type": "code",
   "execution_count": 7,
   "id": "19f67920",
   "metadata": {},
   "outputs": [
    {
     "data": {
      "text/plain": [
       "label                       object\n",
       "device                      object\n",
       "total_sessions             float64\n",
       "driven_km_drives           float64\n",
       "duration_minutes_drives    float64\n",
       "ID                           int64\n",
       "sessions                     int64\n",
       "drives                       int64\n",
       "n_days_after_onboarding      int64\n",
       "total_navigations_fav1       int64\n",
       "total_navigations_fav2       int64\n",
       "activity_days                int64\n",
       "driving_days                 int64\n",
       "dtype: object"
      ]
     },
     "execution_count": 7,
     "metadata": {},
     "output_type": "execute_result"
    }
   ],
   "source": [
    "df.dtypes.sort_values(ascending=False)"
   ]
  },
  {
   "cell_type": "markdown",
   "id": "0a83682b",
   "metadata": {},
   "source": [
    "#### Descriptive  statistics of the data "
   ]
  },
  {
   "cell_type": "code",
   "execution_count": 8,
   "id": "bdfa14fa",
   "metadata": {},
   "outputs": [
    {
     "data": {
      "text/html": [
       "<div>\n",
       "<style scoped>\n",
       "    .dataframe tbody tr th:only-of-type {\n",
       "        vertical-align: middle;\n",
       "    }\n",
       "\n",
       "    .dataframe tbody tr th {\n",
       "        vertical-align: top;\n",
       "    }\n",
       "\n",
       "    .dataframe thead th {\n",
       "        text-align: right;\n",
       "    }\n",
       "</style>\n",
       "<table border=\"1\" class=\"dataframe\">\n",
       "  <thead>\n",
       "    <tr style=\"text-align: right;\">\n",
       "      <th></th>\n",
       "      <th>ID</th>\n",
       "      <th>sessions</th>\n",
       "      <th>drives</th>\n",
       "      <th>total_sessions</th>\n",
       "      <th>n_days_after_onboarding</th>\n",
       "      <th>total_navigations_fav1</th>\n",
       "      <th>total_navigations_fav2</th>\n",
       "      <th>driven_km_drives</th>\n",
       "      <th>duration_minutes_drives</th>\n",
       "      <th>activity_days</th>\n",
       "      <th>driving_days</th>\n",
       "    </tr>\n",
       "  </thead>\n",
       "  <tbody>\n",
       "    <tr>\n",
       "      <th>count</th>\n",
       "      <td>14999.000000</td>\n",
       "      <td>14999.000000</td>\n",
       "      <td>14999.000000</td>\n",
       "      <td>14999.000000</td>\n",
       "      <td>14999.000000</td>\n",
       "      <td>14999.000000</td>\n",
       "      <td>14999.000000</td>\n",
       "      <td>14999.000000</td>\n",
       "      <td>14999.000000</td>\n",
       "      <td>14999.000000</td>\n",
       "      <td>14999.000000</td>\n",
       "    </tr>\n",
       "    <tr>\n",
       "      <th>mean</th>\n",
       "      <td>7499.000000</td>\n",
       "      <td>80.633776</td>\n",
       "      <td>67.281152</td>\n",
       "      <td>189.964447</td>\n",
       "      <td>1749.837789</td>\n",
       "      <td>121.605974</td>\n",
       "      <td>29.672512</td>\n",
       "      <td>4039.340921</td>\n",
       "      <td>1860.976012</td>\n",
       "      <td>15.537102</td>\n",
       "      <td>12.179879</td>\n",
       "    </tr>\n",
       "    <tr>\n",
       "      <th>std</th>\n",
       "      <td>4329.982679</td>\n",
       "      <td>80.699065</td>\n",
       "      <td>65.913872</td>\n",
       "      <td>136.405128</td>\n",
       "      <td>1008.513876</td>\n",
       "      <td>148.121544</td>\n",
       "      <td>45.394651</td>\n",
       "      <td>2502.149334</td>\n",
       "      <td>1446.702288</td>\n",
       "      <td>9.004655</td>\n",
       "      <td>7.824036</td>\n",
       "    </tr>\n",
       "    <tr>\n",
       "      <th>min</th>\n",
       "      <td>0.000000</td>\n",
       "      <td>0.000000</td>\n",
       "      <td>0.000000</td>\n",
       "      <td>0.220211</td>\n",
       "      <td>4.000000</td>\n",
       "      <td>0.000000</td>\n",
       "      <td>0.000000</td>\n",
       "      <td>60.441250</td>\n",
       "      <td>18.282082</td>\n",
       "      <td>0.000000</td>\n",
       "      <td>0.000000</td>\n",
       "    </tr>\n",
       "    <tr>\n",
       "      <th>25%</th>\n",
       "      <td>3749.500000</td>\n",
       "      <td>23.000000</td>\n",
       "      <td>20.000000</td>\n",
       "      <td>90.661156</td>\n",
       "      <td>878.000000</td>\n",
       "      <td>9.000000</td>\n",
       "      <td>0.000000</td>\n",
       "      <td>2212.600607</td>\n",
       "      <td>835.996260</td>\n",
       "      <td>8.000000</td>\n",
       "      <td>5.000000</td>\n",
       "    </tr>\n",
       "    <tr>\n",
       "      <th>50%</th>\n",
       "      <td>7499.000000</td>\n",
       "      <td>56.000000</td>\n",
       "      <td>48.000000</td>\n",
       "      <td>159.568115</td>\n",
       "      <td>1741.000000</td>\n",
       "      <td>71.000000</td>\n",
       "      <td>9.000000</td>\n",
       "      <td>3493.858085</td>\n",
       "      <td>1478.249859</td>\n",
       "      <td>16.000000</td>\n",
       "      <td>12.000000</td>\n",
       "    </tr>\n",
       "    <tr>\n",
       "      <th>75%</th>\n",
       "      <td>11248.500000</td>\n",
       "      <td>112.000000</td>\n",
       "      <td>93.000000</td>\n",
       "      <td>254.192341</td>\n",
       "      <td>2623.500000</td>\n",
       "      <td>178.000000</td>\n",
       "      <td>43.000000</td>\n",
       "      <td>5289.861262</td>\n",
       "      <td>2464.362632</td>\n",
       "      <td>23.000000</td>\n",
       "      <td>19.000000</td>\n",
       "    </tr>\n",
       "    <tr>\n",
       "      <th>max</th>\n",
       "      <td>14998.000000</td>\n",
       "      <td>743.000000</td>\n",
       "      <td>596.000000</td>\n",
       "      <td>1216.154633</td>\n",
       "      <td>3500.000000</td>\n",
       "      <td>1236.000000</td>\n",
       "      <td>415.000000</td>\n",
       "      <td>21183.401890</td>\n",
       "      <td>15851.727160</td>\n",
       "      <td>31.000000</td>\n",
       "      <td>30.000000</td>\n",
       "    </tr>\n",
       "  </tbody>\n",
       "</table>\n",
       "</div>"
      ],
      "text/plain": [
       "                 ID      sessions        drives  total_sessions  \\\n",
       "count  14999.000000  14999.000000  14999.000000    14999.000000   \n",
       "mean    7499.000000     80.633776     67.281152      189.964447   \n",
       "std     4329.982679     80.699065     65.913872      136.405128   \n",
       "min        0.000000      0.000000      0.000000        0.220211   \n",
       "25%     3749.500000     23.000000     20.000000       90.661156   \n",
       "50%     7499.000000     56.000000     48.000000      159.568115   \n",
       "75%    11248.500000    112.000000     93.000000      254.192341   \n",
       "max    14998.000000    743.000000    596.000000     1216.154633   \n",
       "\n",
       "       n_days_after_onboarding  total_navigations_fav1  \\\n",
       "count             14999.000000            14999.000000   \n",
       "mean               1749.837789              121.605974   \n",
       "std                1008.513876              148.121544   \n",
       "min                   4.000000                0.000000   \n",
       "25%                 878.000000                9.000000   \n",
       "50%                1741.000000               71.000000   \n",
       "75%                2623.500000              178.000000   \n",
       "max                3500.000000             1236.000000   \n",
       "\n",
       "       total_navigations_fav2  driven_km_drives  duration_minutes_drives  \\\n",
       "count            14999.000000      14999.000000             14999.000000   \n",
       "mean                29.672512       4039.340921              1860.976012   \n",
       "std                 45.394651       2502.149334              1446.702288   \n",
       "min                  0.000000         60.441250                18.282082   \n",
       "25%                  0.000000       2212.600607               835.996260   \n",
       "50%                  9.000000       3493.858085              1478.249859   \n",
       "75%                 43.000000       5289.861262              2464.362632   \n",
       "max                415.000000      21183.401890             15851.727160   \n",
       "\n",
       "       activity_days  driving_days  \n",
       "count   14999.000000  14999.000000  \n",
       "mean       15.537102     12.179879  \n",
       "std         9.004655      7.824036  \n",
       "min         0.000000      0.000000  \n",
       "25%         8.000000      5.000000  \n",
       "50%        16.000000     12.000000  \n",
       "75%        23.000000     19.000000  \n",
       "max        31.000000     30.000000  "
      ]
     },
     "execution_count": 8,
     "metadata": {},
     "output_type": "execute_result"
    }
   ],
   "source": [
    "#Checking the descriptive statistics in the data\n",
    "df.describe()"
   ]
  },
  {
   "cell_type": "markdown",
   "id": "6a20227a",
   "metadata": {},
   "source": [
    "#### Checking for missing values "
   ]
  },
  {
   "cell_type": "code",
   "execution_count": 9,
   "id": "b74a6ba2",
   "metadata": {},
   "outputs": [
    {
     "data": {
      "text/plain": [
       "ID                           0\n",
       "label                      700\n",
       "sessions                     0\n",
       "drives                       0\n",
       "total_sessions               0\n",
       "n_days_after_onboarding      0\n",
       "total_navigations_fav1       0\n",
       "total_navigations_fav2       0\n",
       "driven_km_drives             0\n",
       "duration_minutes_drives      0\n",
       "activity_days                0\n",
       "driving_days                 0\n",
       "device                       0\n",
       "dtype: int64"
      ]
     },
     "execution_count": 9,
     "metadata": {},
     "output_type": "execute_result"
    }
   ],
   "source": [
    "#checkign for missing values \n",
    "df.isna().sum()"
   ]
  },
  {
   "cell_type": "markdown",
   "id": "c7c3cc60",
   "metadata": {},
   "source": [
    "There are 700 missing values in the labels column. Since missing values cannot be investagited from the source data we will drop them and proceed"
   ]
  },
  {
   "cell_type": "code",
   "execution_count": 10,
   "id": "9433ccc8",
   "metadata": {},
   "outputs": [],
   "source": [
    "#Dropping the missing values\n",
    "df.dropna(inplace=True)"
   ]
  },
  {
   "cell_type": "code",
   "execution_count": 11,
   "id": "0f0c21b7",
   "metadata": {},
   "outputs": [
    {
     "data": {
      "text/plain": [
       "ID                         0\n",
       "label                      0\n",
       "sessions                   0\n",
       "drives                     0\n",
       "total_sessions             0\n",
       "n_days_after_onboarding    0\n",
       "total_navigations_fav1     0\n",
       "total_navigations_fav2     0\n",
       "driven_km_drives           0\n",
       "duration_minutes_drives    0\n",
       "activity_days              0\n",
       "driving_days               0\n",
       "device                     0\n",
       "dtype: int64"
      ]
     },
     "execution_count": 11,
     "metadata": {},
     "output_type": "execute_result"
    }
   ],
   "source": [
    "#checking the missing value have been dropped \n",
    "df.isna().sum()"
   ]
  },
  {
   "cell_type": "markdown",
   "id": "01413d87",
   "metadata": {},
   "source": [
    "## PACE: Analyze Stage "
   ]
  },
  {
   "cell_type": "markdown",
   "id": "22513d20",
   "metadata": {},
   "source": [
    "### Data Visualization for EDA"
   ]
  },
  {
   "cell_type": "markdown",
   "id": "c05bd4cf",
   "metadata": {},
   "source": [
    "#### Checking for outliers in the data \n",
    "\n",
    "We will check for outliers in the data and try to understand the distribution of variables in the dataset. For this purpose we will use a boxplot visualization to spot the outliers and a histogram to understand the distribution of the data in the datafame"
   ]
  },
  {
   "cell_type": "code",
   "execution_count": 12,
   "id": "f78a7f3a",
   "metadata": {},
   "outputs": [
    {
     "data": {
      "image/png": "[encoded data removed]",
      "text/plain": [
       "<Figure size 600x300 with 1 Axes>"
      ]
     },
     "metadata": {},
     "output_type": "display_data"
    }
   ],
   "source": [
    "plt.figure(figsize=(6,3))\n",
    "sns.boxplot(df['sessions'], orient='h')\n",
    "plt.title('Box plot for Sessions')\n",
    "plt.show();"
   ]
  },
  {
   "cell_type": "code",
   "execution_count": 13,
   "id": "e47e3bdf",
   "metadata": {},
   "outputs": [
    {
     "data": {
      "text/plain": [
       "Text(0.5, 1.0, 'Boxplot Session')"
      ]
     },
     "execution_count": 13,
     "metadata": {},
     "output_type": "execute_result"
    },
    {
     "data": {
      "image/png": "[encoded data removed]",
      "text/plain": [
       "<Figure size 600x300 with 1 Axes>"
      ]
     },
     "metadata": {},
     "output_type": "display_data"
    }
   ],
   "source": [
    "plt.figure(figsize=(6,3))\n",
    "median= df['sessions'].median()\n",
    "sns.histplot(df['sessions'], bins= range(0,(300),10))\n",
    "plt.axvline(median, color='red', linestyle='--')\n",
    "plt.text(75, 1200, 'median=56', color='red')\n",
    "plt.title('Boxplot Session')"
   ]
  },
  {
   "cell_type": "markdown",
   "id": "a4a96ab4",
   "metadata": {},
   "source": [
    "The distribution of sessions variable is right skewed with half of the observations having 56 or fewer sessions."
   ]
  },
  {
   "cell_type": "code",
   "execution_count": 14,
   "id": "4cdbac49",
   "metadata": {},
   "outputs": [
    {
     "data": {
      "text/plain": [
       "80.62381984754178"
      ]
     },
     "execution_count": 14,
     "metadata": {},
     "output_type": "execute_result"
    }
   ],
   "source": [
    "df['sessions'].mean()"
   ]
  },
  {
   "cell_type": "code",
   "execution_count": 15,
   "id": "831d6e22",
   "metadata": {},
   "outputs": [
    {
     "data": {
      "text/plain": [
       "56.0"
      ]
     },
     "execution_count": 15,
     "metadata": {},
     "output_type": "execute_result"
    }
   ],
   "source": [
    "df['sessions'].median()"
   ]
  },
  {
   "cell_type": "code",
   "execution_count": 16,
   "id": "d36c9569",
   "metadata": {},
   "outputs": [
    {
     "data": {
      "text/plain": [
       "Text(0.5, 1.0, 'BoxPlot for Drives')"
      ]
     },
     "execution_count": 16,
     "metadata": {},
     "output_type": "execute_result"
    },
    {
     "data": {
      "image/png": "[encoded data removed]",
      "text/plain": [
       "<Figure size 600x300 with 1 Axes>"
      ]
     },
     "metadata": {},
     "output_type": "display_data"
    }
   ],
   "source": [
    "#Boxlot for drives\n",
    "plt.figure(figsize=(6,3))\n",
    "sns.boxplot(df['drives'], orient='h')\n",
    "plt.title('BoxPlot for Drives')"
   ]
  },
  {
   "cell_type": "code",
   "execution_count": 17,
   "id": "fa7f904c",
   "metadata": {},
   "outputs": [
    {
     "data": {
      "text/plain": [
       "Text(0.5, 1.0, 'Histogram for Drives')"
      ]
     },
     "execution_count": 17,
     "metadata": {},
     "output_type": "execute_result"
    },
    {
     "data": {
      "image/png": "[encoded data removed]",
      "text/plain": [
       "<Figure size 600x300 with 1 Axes>"
      ]
     },
     "metadata": {},
     "output_type": "display_data"
    }
   ],
   "source": [
    "plt.figure(figsize=(6,3))\n",
    "sns.histplot(df['drives'], bins= range(0,(600+1),10))\n",
    "plt.title('Histogram for Drives')"
   ]
  },
  {
   "cell_type": "code",
   "execution_count": 18,
   "id": "a1ceb241",
   "metadata": {},
   "outputs": [
    {
     "data": {
      "text/plain": [
       "48.0"
      ]
     },
     "execution_count": 18,
     "metadata": {},
     "output_type": "execute_result"
    }
   ],
   "source": [
    "\n",
    "\n",
    "df['drives'].median()"
   ]
  },
  {
   "cell_type": "code",
   "execution_count": 19,
   "id": "201ac502",
   "metadata": {},
   "outputs": [
    {
     "data": {
      "text/plain": [
       "67.25582208546052"
      ]
     },
     "execution_count": 19,
     "metadata": {},
     "output_type": "execute_result"
    }
   ],
   "source": [
    "df['drives'].mean()"
   ]
  },
  {
   "cell_type": "markdown",
   "id": "d61f7d92",
   "metadata": {},
   "source": [
    "As we can see that the distribution is right skewed for `drives` just like that of `sessions` where half of the observations have less than 48 drives."
   ]
  },
  {
   "cell_type": "code",
   "execution_count": 20,
   "id": "f7a66c06",
   "metadata": {},
   "outputs": [
    {
     "data": {
      "text/plain": [
       "Text(0.5, 1.0, 'Boxplot for Total Sessions')"
      ]
     },
     "execution_count": 20,
     "metadata": {},
     "output_type": "execute_result"
    },
    {
     "data": {
      "image/png": "[encoded data removed]",
      "text/plain": [
       "<Figure size 600x300 with 1 Axes>"
      ]
     },
     "metadata": {},
     "output_type": "display_data"
    }
   ],
   "source": [
    "plt.figure(figsize=(6,3))\n",
    "sns.boxplot(df['total_sessions'], orient='h')\n",
    "plt.title('Boxplot for Total Sessions')"
   ]
  },
  {
   "cell_type": "code",
   "execution_count": 21,
   "id": "4c393cfa",
   "metadata": {},
   "outputs": [
    {
     "data": {
      "text/plain": [
       "Text(0.5, 1.0, 'Histogram for Total Sessions')"
      ]
     },
     "execution_count": 21,
     "metadata": {},
     "output_type": "execute_result"
    },
    {
     "data": {
      "image/png": "[encoded data removed]",
      "text/plain": [
       "<Figure size 600x300 with 1 Axes>"
      ]
     },
     "metadata": {},
     "output_type": "display_data"
    }
   ],
   "source": [
    "plt.figure(figsize=(6,3))\n",
    "sns.histplot(df['total_sessions'], bins=range(0,(1201),50))\n",
    "plt.title('Histogram for Total Sessions')"
   ]
  },
  {
   "cell_type": "code",
   "execution_count": 22,
   "id": "5b13ba32",
   "metadata": {},
   "outputs": [
    {
     "data": {
      "text/plain": [
       "158.7185714"
      ]
     },
     "execution_count": 22,
     "metadata": {},
     "output_type": "execute_result"
    }
   ],
   "source": [
    "df['total_sessions'].median()"
   ]
  },
  {
   "cell_type": "code",
   "execution_count": 23,
   "id": "f0f26a95",
   "metadata": {},
   "outputs": [
    {
     "data": {
      "text/plain": [
       "189.54740851694336"
      ]
     },
     "execution_count": 23,
     "metadata": {},
     "output_type": "execute_result"
    }
   ],
   "source": [
    "df['total_sessions'].mean()"
   ]
  },
  {
   "cell_type": "markdown",
   "id": "a188e50a",
   "metadata": {},
   "source": [
    "As shown in the histogram, the distrution for `total_session` is right skewed. The median for `total_session` is 159.56 whereas the median for `session` was 56. We can watch this variable closely."
   ]
  },
  {
   "cell_type": "code",
   "execution_count": 24,
   "id": "bd0f878c",
   "metadata": {},
   "outputs": [
    {
     "data": {
      "image/png": "[encoded data removed]",
      "text/plain": [
       "<Figure size 600x300 with 1 Axes>"
      ]
     },
     "metadata": {},
     "output_type": "display_data"
    }
   ],
   "source": [
    "plt.figure(figsize=(6,3))\n",
    "sns.boxplot(df['n_days_after_onboarding'],orient='h' )\n",
    "plt.title('Box Plot for number of days after onboarding')\n",
    "plt.show()"
   ]
  },
  {
   "cell_type": "code",
   "execution_count": 25,
   "id": "0f36c320",
   "metadata": {},
   "outputs": [
    {
     "data": {
      "text/plain": [
       "Text(0.5, 1.0, 'Hostogram for number of days after onboarding')"
      ]
     },
     "execution_count": 25,
     "metadata": {},
     "output_type": "execute_result"
    },
    {
     "data": {
      "image/png": "[encoded data removed]",
      "text/plain": [
       "<Figure size 600x300 with 1 Axes>"
      ]
     },
     "metadata": {},
     "output_type": "display_data"
    }
   ],
   "source": [
    "plt.figure(figsize=(6,3))\n",
    "sns.histplot(df['n_days_after_onboarding'], bins= range(0,(2800),100))\n",
    "plt.title('Histogram for number of days after onboarding')"
   ]
  },
  {
   "cell_type": "markdown",
   "id": "5a237501",
   "metadata": {},
   "source": [
    "The distrbution is even for most of the observations in `n_days_after_onbording`. "
   ]
  },
  {
   "cell_type": "code",
   "execution_count": 26,
   "id": "05cea869",
   "metadata": {},
   "outputs": [
    {
     "data": {
      "text/plain": [
       "Text(0.5, 1.0, 'Box plot for total navigations')"
      ]
     },
     "execution_count": 26,
     "metadata": {},
     "output_type": "execute_result"
    },
    {
     "data": {
      "image/png": "[encoded data removed]",
      "text/plain": [
       "<Figure size 600x300 with 1 Axes>"
      ]
     },
     "metadata": {},
     "output_type": "display_data"
    }
   ],
   "source": [
    "plt.figure(figsize=(6,3))\n",
    "sns.boxplot(df['total_navigations_fav1'], orient='h')\n",
    "plt.title('Box plot for total navigations')"
   ]
  },
  {
   "cell_type": "code",
   "execution_count": 27,
   "id": "26f010da",
   "metadata": {},
   "outputs": [
    {
     "data": {
      "text/plain": [
       "Text(0.5, 1.0, 'Histogram for total navigations')"
      ]
     },
     "execution_count": 27,
     "metadata": {},
     "output_type": "execute_result"
    },
    {
     "data": {
      "image/png": "[encoded data removed]",
      "text/plain": [
       "<Figure size 600x300 with 1 Axes>"
      ]
     },
     "metadata": {},
     "output_type": "display_data"
    }
   ],
   "source": [
    "plt.figure(figsize=(6,3))\n",
    "sns.histplot(df['total_navigations_fav1'], bins=range(0,(1300),50))\n",
    "plt.title('Histogram for total navigations')"
   ]
  },
  {
   "cell_type": "markdown",
   "id": "92d16d53",
   "metadata": {},
   "source": [
    "The distribution for `total_navigations` is right skewed. We can find the skewness of the variable from the skew() function. A psoitive skew values indicates a right skewed data in which the mean is greater than the median"
   ]
  },
  {
   "cell_type": "code",
   "execution_count": 28,
   "id": "b19bc771",
   "metadata": {},
   "outputs": [
    {
     "data": {
      "text/plain": [
       "1.9664988174737175"
      ]
     },
     "execution_count": 28,
     "metadata": {},
     "output_type": "execute_result"
    }
   ],
   "source": [
    "#Finding the skewness of the data in the column\n",
    "df['total_navigations_fav1'].skew()"
   ]
  },
  {
   "cell_type": "code",
   "execution_count": 29,
   "id": "dc277cb7",
   "metadata": {},
   "outputs": [
    {
     "data": {
      "image/png": "[encoded data removed]",
      "text/plain": [
       "<Figure size 600x300 with 1 Axes>"
      ]
     },
     "metadata": {},
     "output_type": "display_data"
    }
   ],
   "source": [
    "plt.figure(figsize=(6,3))\n",
    "sns.boxplot(df['total_navigations_fav2'], orient='h')\n",
    "plt.show();"
   ]
  },
  {
   "cell_type": "code",
   "execution_count": 30,
   "id": "a716b6b6",
   "metadata": {},
   "outputs": [
    {
     "data": {
      "image/png": "[encoded data removed]",
      "text/plain": [
       "<Figure size 600x300 with 1 Axes>"
      ]
     },
     "metadata": {},
     "output_type": "display_data"
    }
   ],
   "source": [
    "plt.figure(figsize=(6,3))\n",
    "sns.histplot(df['total_navigations_fav2'], bins= range(0,(420),10))\n",
    "plt.show();"
   ]
  },
  {
   "cell_type": "markdown",
   "id": "1143d95f",
   "metadata": {},
   "source": [
    "The distribution for `total_navigation_fav2` variable is also positively skewed"
   ]
  },
  {
   "cell_type": "code",
   "execution_count": 31,
   "id": "76d226a3",
   "metadata": {},
   "outputs": [
    {
     "data": {
      "image/png": "[encoded data removed]",
      "text/plain": [
       "<Figure size 600x300 with 1 Axes>"
      ]
     },
     "metadata": {},
     "output_type": "display_data"
    }
   ],
   "source": [
    "plt.figure(figsize=(6,3))\n",
    "sns.boxplot(df['driven_km_drives'], orient='h')\n",
    "plt.show()"
   ]
  },
  {
   "cell_type": "code",
   "execution_count": 32,
   "id": "086f6bf1",
   "metadata": {},
   "outputs": [
    {
     "data": {
      "image/png": "[encoded data removed]",
      "text/plain": [
       "<Figure size 600x300 with 1 Axes>"
      ]
     },
     "metadata": {},
     "output_type": "display_data"
    }
   ],
   "source": [
    "plt.figure(figsize=(6,3))\n",
    "sns.histplot(df['driven_km_drives'], bins= range(0,(21000),500))\n",
    "plt.show();"
   ]
  },
  {
   "cell_type": "markdown",
   "id": "139e0146",
   "metadata": {},
   "source": [
    "The distribution for `driven_km_drives` is slightly positively skewed. "
   ]
  },
  {
   "cell_type": "code",
   "execution_count": 33,
   "id": "51fbbf34",
   "metadata": {},
   "outputs": [
    {
     "data": {
      "image/png": "[encoded data removed]",
      "text/plain": [
       "<Figure size 600x300 with 1 Axes>"
      ]
     },
     "metadata": {},
     "output_type": "display_data"
    }
   ],
   "source": [
    "plt.figure(figsize=(6,3))\n",
    "sns.boxplot(df['duration_minutes_drives'], orient='h')\n",
    "plt.show();"
   ]
  },
  {
   "cell_type": "code",
   "execution_count": 34,
   "id": "bddba991",
   "metadata": {},
   "outputs": [
    {
     "data": {
      "image/png": "[encoded data removed]",
      "text/plain": [
       "<Figure size 600x300 with 1 Axes>"
      ]
     },
     "metadata": {},
     "output_type": "display_data"
    }
   ],
   "source": [
    "plt.figure(figsize=(6,3))\n",
    "sns.histplot(df['duration_minutes_drives'], bins= range(0,(16000),500))\n",
    "plt.show();"
   ]
  },
  {
   "cell_type": "markdown",
   "id": "968a901e",
   "metadata": {},
   "source": [
    " The distribution for `duration_minutes_drive` is also right skewed. "
   ]
  },
  {
   "cell_type": "code",
   "execution_count": 35,
   "id": "210cf1d4",
   "metadata": {},
   "outputs": [
    {
     "data": {
      "image/png": "[encoded data removed]",
      "text/plain": [
       "<Figure size 600x300 with 1 Axes>"
      ]
     },
     "metadata": {},
     "output_type": "display_data"
    }
   ],
   "source": [
    "plt.figure(figsize=(6,3))\n",
    "sns.boxplot(df['activity_days'], orient='h')\n",
    "plt.show();"
   ]
  },
  {
   "cell_type": "code",
   "execution_count": 36,
   "id": "263d30ff",
   "metadata": {},
   "outputs": [
    {
     "data": {
      "image/png": "[encoded data removed]",
      "text/plain": [
       "<Figure size 600x300 with 1 Axes>"
      ]
     },
     "metadata": {},
     "output_type": "display_data"
    }
   ],
   "source": [
    "plt.figure(figsize=(6,3))\n",
    "sns.histplot(df['activity_days'], bins=range(0,(31),1))\n",
    "plt.show();"
   ]
  },
  {
   "cell_type": "markdown",
   "id": "f90d333c",
   "metadata": {},
   "source": [
    "The distribution for `activity_days` is fairly even except for the last day of the month where is jumps to around 1000 counts."
   ]
  },
  {
   "cell_type": "code",
   "execution_count": 37,
   "id": "c41599ff",
   "metadata": {},
   "outputs": [
    {
     "data": {
      "image/png": "[encoded data removed]",
      "text/plain": [
       "<Figure size 600x300 with 1 Axes>"
      ]
     },
     "metadata": {},
     "output_type": "display_data"
    }
   ],
   "source": [
    "plt.figure(figsize=(6,3))\n",
    "sns.boxplot(df['driving_days'], orient='h')\n",
    "plt.show();"
   ]
  },
  {
   "cell_type": "code",
   "execution_count": 38,
   "id": "2504d5af",
   "metadata": {},
   "outputs": [
    {
     "data": {
      "image/png": "[encoded data removed]",
      "text/plain": [
       "<Figure size 600x300 with 1 Axes>"
      ]
     },
     "metadata": {},
     "output_type": "display_data"
    }
   ],
   "source": [
    "plt.figure(figsize=(6,3))\n",
    "sns.histplot(df['driving_days'], bins= range(0,(31),1))\n",
    "plt.show();"
   ]
  },
  {
   "cell_type": "markdown",
   "id": "d00169cf",
   "metadata": {},
   "source": [
    "The first day of the month has the highest observations for the distribution for `driving_days` variable"
   ]
  },
  {
   "cell_type": "markdown",
   "id": "0a1d6227",
   "metadata": {},
   "source": [
    "We will construct **Pie Chart** to understand the Categorical Variables `device` and `label`."
   ]
  },
  {
   "cell_type": "code",
   "execution_count": 39,
   "id": "8479ec22",
   "metadata": {},
   "outputs": [
    {
     "data": {
      "image/png": "[encoded data removed]",
      "text/plain": [
       "<Figure size 600x300 with 1 Axes>"
      ]
     },
     "metadata": {},
     "output_type": "display_data"
    }
   ],
   "source": [
    "#Pie chart \n",
    "plt.figure(figsize=(6,3))\n",
    "data=df['device'].value_counts()\n",
    "plt.pie(data,labels=[f'{data.index[0]}: {data.values[0]}',\n",
    "                f'{data.index[1]}: {data.values[1]}'],\n",
    "        autopct='%1.1f%%'\n",
    "        )\n",
    "plt.title('Users by device');"
   ]
  },
  {
   "cell_type": "markdown",
   "id": "7bc7bdcb",
   "metadata": {},
   "source": [
    "Most Waze app users use iPhone (64.5%) while the rest are android users. "
   ]
  },
  {
   "cell_type": "code",
   "execution_count": 40,
   "id": "83fcb9a8",
   "metadata": {},
   "outputs": [
    {
     "data": {
      "text/plain": [
       "retained    11763\n",
       "churned      2536\n",
       "Name: label, dtype: int64"
      ]
     },
     "execution_count": 40,
     "metadata": {},
     "output_type": "execute_result"
    }
   ],
   "source": [
    "df['label'].value_counts()"
   ]
  },
  {
   "cell_type": "code",
   "execution_count": 41,
   "id": "2d3b7be1",
   "metadata": {},
   "outputs": [
    {
     "data": {
      "image/png": "[encoded data removed]",
      "text/plain": [
       "<Figure size 600x300 with 1 Axes>"
      ]
     },
     "metadata": {},
     "output_type": "display_data"
    }
   ],
   "source": [
    "#For \n",
    "fig = plt.figure(figsize=(6,3))\n",
    "data=df['label'].value_counts()\n",
    "plt.pie(data,\n",
    "        labels=[f'{data.index[0]}: {data.values[0]}',\n",
    "                f'{data.index[1]}: {data.values[1]}'],\n",
    "        autopct='%1.1f%%'\n",
    "        )\n",
    "plt.title('Count of retained vs. churned');"
   ]
  },
  {
   "cell_type": "markdown",
   "id": "7f7ddbbf",
   "metadata": {},
   "source": [
    "Waze App has a churn rate of less than 20 %. Also it can be seen that there is a class imbalance in the dataset which will help us in deciding the evaluation metrix when we willd evelop the model. "
   ]
  },
  {
   "cell_type": "code",
   "execution_count": 42,
   "id": "e7193b75",
   "metadata": {},
   "outputs": [
    {
     "data": {
      "image/png": "[encoded data removed]",
      "text/plain": [
       "<Figure size 1200x400 with 1 Axes>"
      ]
     },
     "metadata": {},
     "output_type": "display_data"
    }
   ],
   "source": [
    "plt.figure(figsize=(12,4))\n",
    "label=['driving days', 'activity days']\n",
    "plt.hist([df['driving_days'], df['activity_days']],\n",
    "         bins=range(0,33),\n",
    "         label=label)\n",
    "plt.xlabel('days')\n",
    "plt.ylabel('count')\n",
    "plt.legend()\n",
    "plt.title('driving_days vs. activity_days');"
   ]
  },
  {
   "cell_type": "code",
   "execution_count": 43,
   "id": "c95ce634",
   "metadata": {},
   "outputs": [
    {
     "data": {
      "image/png": "[encoded data removed]",
      "text/plain": [
       "<Figure size 640x480 with 1 Axes>"
      ]
     },
     "metadata": {},
     "output_type": "display_data"
    }
   ],
   "source": [
    "# we will do a scatter plot to understand the relationship between activity days and driving days \n",
    "sns.scatterplot(data=df, x='driving_days', y='activity_days')\n",
    "plt.title('driving_days vs. activity_days')\n",
    "plt.plot([0,31], [0,31], color='green', linestyle='--');"
   ]
  },
  {
   "cell_type": "markdown",
   "id": "87a45dc8",
   "metadata": {},
   "source": [
    "As shown in the trend line, there is a positve corelation between `activity_days` and `driving_days`."
   ]
  },
  {
   "cell_type": "markdown",
   "id": "393a5e39",
   "metadata": {},
   "source": [
    "### Checking for outliers in the data\n",
    "Depending on the machine learnign model we choose, we need to identify the outliers in the dataset and deal with them accordingly. Here we will check the outliers in the data set as indicated in the boxplot visualization. Since we are comparing Random forest model and  XGBoost model, we will keep the outliers as these model are robust with the outliers."
   ]
  },
  {
   "cell_type": "code",
   "execution_count": 44,
   "id": "153aa45b",
   "metadata": {},
   "outputs": [],
   "source": [
    "#Checking for outliers in the data for key variables\n",
    "quantile_25=df['sessions'].quantile(0.25)\n",
    "quantile_75= df['sessions'].quantile(0.75)\n",
    "#calculating interquantile range\n",
    "iqr=quantile_75 - quantile_25\n",
    "upper_limit= quantile_75 + 1.5 * iqr\n",
    "lower_limit = quantile_25 - 1.5 *iqr"
   ]
  },
  {
   "cell_type": "code",
   "execution_count": 45,
   "id": "35f6ce7b",
   "metadata": {},
   "outputs": [],
   "source": [
    "outliers_mask=(df['sessions']>upper_limit)|(df['sessions'] < lower_limit)"
   ]
  },
  {
   "cell_type": "code",
   "execution_count": 46,
   "id": "0d205779",
   "metadata": {},
   "outputs": [
    {
     "data": {
      "text/plain": [
       "709"
      ]
     },
     "execution_count": 46,
     "metadata": {},
     "output_type": "execute_result"
    }
   ],
   "source": [
    "outliers= df[outliers_mask]\n",
    "outliers['sessions'].count()"
   ]
  },
  {
   "cell_type": "markdown",
   "id": "07125b2e",
   "metadata": {},
   "source": [
    "There are 729 values that are outliers in the variable `sessions`. we can assess these values thrpuh head function"
   ]
  },
  {
   "cell_type": "code",
   "execution_count": 47,
   "id": "c9bc4368",
   "metadata": {},
   "outputs": [
    {
     "data": {
      "text/plain": [
       "743"
      ]
     },
     "execution_count": 47,
     "metadata": {},
     "output_type": "execute_result"
    }
   ],
   "source": [
    "outliers['sessions'].max()"
   ]
  },
  {
   "cell_type": "code",
   "execution_count": 48,
   "id": "f294090d",
   "metadata": {},
   "outputs": [
    {
     "data": {
      "text/plain": [
       "244"
      ]
     },
     "execution_count": 48,
     "metadata": {},
     "output_type": "execute_result"
    }
   ],
   "source": [
    "outliers['sessions'].min()"
   ]
  },
  {
   "cell_type": "code",
   "execution_count": 49,
   "id": "25b94fd7",
   "metadata": {},
   "outputs": [],
   "source": [
    "#identifying outliers for drives \n",
    "\n",
    "quantile_25 = df['drives'].quantile(0.25)\n",
    "quantile_75 = df['drives'].quantile(0.75)\n",
    "\n",
    "#calculating Inter quantile range \n",
    "\n",
    "iqr = quantile_75 - quantile_25\n",
    "\n",
    "#calculating upper limit for the variable\n",
    "upper_limit= quantile_75 + 1.5 * iqr\n",
    "#calculating lower limit \n",
    "lower_limit = quantile_25 - 1.5 * iqr"
   ]
  },
  {
   "cell_type": "code",
   "execution_count": 50,
   "id": "ee69603f",
   "metadata": {},
   "outputs": [],
   "source": [
    "\n",
    "outliers_mask = (df['drives'] > upper_limit)| (df['drives'] < lower_limit)"
   ]
  },
  {
   "cell_type": "code",
   "execution_count": 51,
   "id": "84d29810",
   "metadata": {},
   "outputs": [
    {
     "data": {
      "text/plain": [
       "695"
      ]
     },
     "execution_count": 51,
     "metadata": {},
     "output_type": "execute_result"
    }
   ],
   "source": [
    "outliers = df[outliers_mask]\n",
    "outliers['drives'].count()\n"
   ]
  },
  {
   "cell_type": "code",
   "execution_count": 52,
   "id": "cf208842",
   "metadata": {},
   "outputs": [
    {
     "data": {
      "text/html": [
       "<div>\n",
       "<style scoped>\n",
       "    .dataframe tbody tr th:only-of-type {\n",
       "        vertical-align: middle;\n",
       "    }\n",
       "\n",
       "    .dataframe tbody tr th {\n",
       "        vertical-align: top;\n",
       "    }\n",
       "\n",
       "    .dataframe thead th {\n",
       "        text-align: right;\n",
       "    }\n",
       "</style>\n",
       "<table border=\"1\" class=\"dataframe\">\n",
       "  <thead>\n",
       "    <tr style=\"text-align: right;\">\n",
       "      <th></th>\n",
       "      <th>ID</th>\n",
       "      <th>label</th>\n",
       "      <th>sessions</th>\n",
       "      <th>drives</th>\n",
       "      <th>total_sessions</th>\n",
       "      <th>n_days_after_onboarding</th>\n",
       "      <th>total_navigations_fav1</th>\n",
       "      <th>total_navigations_fav2</th>\n",
       "      <th>driven_km_drives</th>\n",
       "      <th>duration_minutes_drives</th>\n",
       "      <th>activity_days</th>\n",
       "      <th>driving_days</th>\n",
       "      <th>device</th>\n",
       "    </tr>\n",
       "  </thead>\n",
       "  <tbody>\n",
       "    <tr>\n",
       "      <th>0</th>\n",
       "      <td>0</td>\n",
       "      <td>retained</td>\n",
       "      <td>283</td>\n",
       "      <td>226</td>\n",
       "      <td>296.748273</td>\n",
       "      <td>2276</td>\n",
       "      <td>208</td>\n",
       "      <td>0</td>\n",
       "      <td>2628.845068</td>\n",
       "      <td>1985.775061</td>\n",
       "      <td>28</td>\n",
       "      <td>19</td>\n",
       "      <td>Android</td>\n",
       "    </tr>\n",
       "    <tr>\n",
       "      <th>17</th>\n",
       "      <td>17</td>\n",
       "      <td>churned</td>\n",
       "      <td>272</td>\n",
       "      <td>219</td>\n",
       "      <td>564.271485</td>\n",
       "      <td>88</td>\n",
       "      <td>0</td>\n",
       "      <td>90</td>\n",
       "      <td>3529.338980</td>\n",
       "      <td>2078.426838</td>\n",
       "      <td>11</td>\n",
       "      <td>11</td>\n",
       "      <td>Android</td>\n",
       "    </tr>\n",
       "    <tr>\n",
       "      <th>33</th>\n",
       "      <td>33</td>\n",
       "      <td>retained</td>\n",
       "      <td>291</td>\n",
       "      <td>233</td>\n",
       "      <td>568.722765</td>\n",
       "      <td>275</td>\n",
       "      <td>39</td>\n",
       "      <td>9</td>\n",
       "      <td>2578.720200</td>\n",
       "      <td>1703.292389</td>\n",
       "      <td>15</td>\n",
       "      <td>15</td>\n",
       "      <td>iPhone</td>\n",
       "    </tr>\n",
       "    <tr>\n",
       "      <th>63</th>\n",
       "      <td>63</td>\n",
       "      <td>retained</td>\n",
       "      <td>253</td>\n",
       "      <td>203</td>\n",
       "      <td>298.673647</td>\n",
       "      <td>1546</td>\n",
       "      <td>0</td>\n",
       "      <td>88</td>\n",
       "      <td>4695.169432</td>\n",
       "      <td>2146.467081</td>\n",
       "      <td>6</td>\n",
       "      <td>1</td>\n",
       "      <td>iPhone</td>\n",
       "    </tr>\n",
       "    <tr>\n",
       "      <th>88</th>\n",
       "      <td>88</td>\n",
       "      <td>retained</td>\n",
       "      <td>306</td>\n",
       "      <td>246</td>\n",
       "      <td>320.257531</td>\n",
       "      <td>2252</td>\n",
       "      <td>60</td>\n",
       "      <td>0</td>\n",
       "      <td>3595.562658</td>\n",
       "      <td>2420.119875</td>\n",
       "      <td>28</td>\n",
       "      <td>20</td>\n",
       "      <td>Android</td>\n",
       "    </tr>\n",
       "  </tbody>\n",
       "</table>\n",
       "</div>"
      ],
      "text/plain": [
       "    ID     label  sessions  drives  total_sessions  n_days_after_onboarding  \\\n",
       "0    0  retained       283     226      296.748273                     2276   \n",
       "17  17   churned       272     219      564.271485                       88   \n",
       "33  33  retained       291     233      568.722765                      275   \n",
       "63  63  retained       253     203      298.673647                     1546   \n",
       "88  88  retained       306     246      320.257531                     2252   \n",
       "\n",
       "    total_navigations_fav1  total_navigations_fav2  driven_km_drives  \\\n",
       "0                      208                       0       2628.845068   \n",
       "17                       0                      90       3529.338980   \n",
       "33                      39                       9       2578.720200   \n",
       "63                       0                      88       4695.169432   \n",
       "88                      60                       0       3595.562658   \n",
       "\n",
       "    duration_minutes_drives  activity_days  driving_days   device  \n",
       "0               1985.775061             28            19  Android  \n",
       "17              2078.426838             11            11  Android  \n",
       "33              1703.292389             15            15   iPhone  \n",
       "63              2146.467081              6             1   iPhone  \n",
       "88              2420.119875             28            20  Android  "
      ]
     },
     "execution_count": 52,
     "metadata": {},
     "output_type": "execute_result"
    }
   ],
   "source": [
    "outliers.head()"
   ]
  },
  {
   "cell_type": "code",
   "execution_count": 53,
   "id": "717241ff",
   "metadata": {},
   "outputs": [],
   "source": [
    "#identifying outliers for duration minutes\n",
    "\n",
    "quantile_25 = df['duration_minutes_drives'].quantile(0.25)\n",
    "quantile_75 = df['duration_minutes_drives'].quantile(0.75)\n",
    "\n",
    "#calculating Inter quantile range \n",
    "\n",
    "iqr = quantile_75 - quantile_25\n",
    "\n",
    "#calculating upper limit for the variable\n",
    "upper_limit= quantile_75 + 1.5 * iqr\n",
    "#calculating lower limit \n",
    "lower_limit = quantile_25 - 1.5 * iqr"
   ]
  },
  {
   "cell_type": "code",
   "execution_count": 54,
   "id": "e6ae5e6d",
   "metadata": {},
   "outputs": [],
   "source": [
    "outliers_mask = (df['duration_minutes_drives'] > upper_limit)| (df['duration_minutes_drives'] < lower_limit)"
   ]
  },
  {
   "cell_type": "code",
   "execution_count": 55,
   "id": "6a3dc980",
   "metadata": {},
   "outputs": [
    {
     "data": {
      "text/plain": [
       "613"
      ]
     },
     "execution_count": 55,
     "metadata": {},
     "output_type": "execute_result"
    }
   ],
   "source": [
    "outliers= df[outliers_mask]\n",
    "outliers['duration_minutes_drives'].count()"
   ]
  },
  {
   "cell_type": "code",
   "execution_count": 56,
   "id": "88ef83c9",
   "metadata": {},
   "outputs": [
    {
     "data": {
      "text/plain": [
       "4908.860032"
      ]
     },
     "execution_count": 56,
     "metadata": {},
     "output_type": "execute_result"
    }
   ],
   "source": [
    "outliers['duration_minutes_drives'].min()"
   ]
  },
  {
   "cell_type": "code",
   "execution_count": 57,
   "id": "909d65ba",
   "metadata": {},
   "outputs": [
    {
     "data": {
      "text/plain": [
       "440"
      ]
     },
     "execution_count": 57,
     "metadata": {},
     "output_type": "execute_result"
    }
   ],
   "source": [
    "#identifying outliers for duration minutes\n",
    "\n",
    "quantile_25 = df['driven_km_drives'].quantile(0.25)\n",
    "quantile_75 = df['driven_km_drives'].quantile(0.75)\n",
    "\n",
    "#calculating Inter quantile range \n",
    "\n",
    "iqr = quantile_75 - quantile_25\n",
    "\n",
    "#calculating upper limit for the variable\n",
    "upper_limit= quantile_75 + 1.5 * iqr\n",
    "#calculating lower limit \n",
    "lower_limit = quantile_25 - 1.5 * iqr\n",
    "#Finding outliers\n",
    "outliers_mask = (df['driven_km_drives'] > upper_limit)| (df['driven_km_drives'] < lower_limit)\n",
    "outliers= df[outliers_mask]\n",
    "outliers['driven_km_drives'].count()"
   ]
  },
  {
   "cell_type": "code",
   "execution_count": 58,
   "id": "c873be27",
   "metadata": {},
   "outputs": [
    {
     "data": {
      "text/html": [
       "<div>\n",
       "<style scoped>\n",
       "    .dataframe tbody tr th:only-of-type {\n",
       "        vertical-align: middle;\n",
       "    }\n",
       "\n",
       "    .dataframe tbody tr th {\n",
       "        vertical-align: top;\n",
       "    }\n",
       "\n",
       "    .dataframe thead th {\n",
       "        text-align: right;\n",
       "    }\n",
       "</style>\n",
       "<table border=\"1\" class=\"dataframe\">\n",
       "  <thead>\n",
       "    <tr style=\"text-align: right;\">\n",
       "      <th></th>\n",
       "      <th>ID</th>\n",
       "      <th>label</th>\n",
       "      <th>sessions</th>\n",
       "      <th>drives</th>\n",
       "      <th>total_sessions</th>\n",
       "      <th>n_days_after_onboarding</th>\n",
       "      <th>total_navigations_fav1</th>\n",
       "      <th>total_navigations_fav2</th>\n",
       "      <th>driven_km_drives</th>\n",
       "      <th>duration_minutes_drives</th>\n",
       "      <th>activity_days</th>\n",
       "      <th>driving_days</th>\n",
       "      <th>device</th>\n",
       "    </tr>\n",
       "  </thead>\n",
       "  <tbody>\n",
       "    <tr>\n",
       "      <th>1</th>\n",
       "      <td>1</td>\n",
       "      <td>retained</td>\n",
       "      <td>133</td>\n",
       "      <td>107</td>\n",
       "      <td>326.896596</td>\n",
       "      <td>1225</td>\n",
       "      <td>19</td>\n",
       "      <td>64</td>\n",
       "      <td>13715.920550</td>\n",
       "      <td>3160.472914</td>\n",
       "      <td>13</td>\n",
       "      <td>11</td>\n",
       "      <td>iPhone</td>\n",
       "    </tr>\n",
       "    <tr>\n",
       "      <th>30</th>\n",
       "      <td>30</td>\n",
       "      <td>retained</td>\n",
       "      <td>78</td>\n",
       "      <td>66</td>\n",
       "      <td>484.571643</td>\n",
       "      <td>2381</td>\n",
       "      <td>106</td>\n",
       "      <td>21</td>\n",
       "      <td>10573.019780</td>\n",
       "      <td>6978.070441</td>\n",
       "      <td>31</td>\n",
       "      <td>26</td>\n",
       "      <td>iPhone</td>\n",
       "    </tr>\n",
       "    <tr>\n",
       "      <th>48</th>\n",
       "      <td>48</td>\n",
       "      <td>churned</td>\n",
       "      <td>48</td>\n",
       "      <td>42</td>\n",
       "      <td>223.252729</td>\n",
       "      <td>757</td>\n",
       "      <td>335</td>\n",
       "      <td>28</td>\n",
       "      <td>9947.593149</td>\n",
       "      <td>3369.145354</td>\n",
       "      <td>8</td>\n",
       "      <td>2</td>\n",
       "      <td>iPhone</td>\n",
       "    </tr>\n",
       "    <tr>\n",
       "      <th>59</th>\n",
       "      <td>59</td>\n",
       "      <td>retained</td>\n",
       "      <td>23</td>\n",
       "      <td>20</td>\n",
       "      <td>24.464776</td>\n",
       "      <td>1924</td>\n",
       "      <td>169</td>\n",
       "      <td>0</td>\n",
       "      <td>11556.277480</td>\n",
       "      <td>4966.840886</td>\n",
       "      <td>27</td>\n",
       "      <td>26</td>\n",
       "      <td>Android</td>\n",
       "    </tr>\n",
       "    <tr>\n",
       "      <th>62</th>\n",
       "      <td>62</td>\n",
       "      <td>retained</td>\n",
       "      <td>69</td>\n",
       "      <td>56</td>\n",
       "      <td>81.665854</td>\n",
       "      <td>1356</td>\n",
       "      <td>373</td>\n",
       "      <td>0</td>\n",
       "      <td>11014.870140</td>\n",
       "      <td>9143.800241</td>\n",
       "      <td>24</td>\n",
       "      <td>23</td>\n",
       "      <td>iPhone</td>\n",
       "    </tr>\n",
       "  </tbody>\n",
       "</table>\n",
       "</div>"
      ],
      "text/plain": [
       "    ID     label  sessions  drives  total_sessions  n_days_after_onboarding  \\\n",
       "1    1  retained       133     107      326.896596                     1225   \n",
       "30  30  retained        78      66      484.571643                     2381   \n",
       "48  48   churned        48      42      223.252729                      757   \n",
       "59  59  retained        23      20       24.464776                     1924   \n",
       "62  62  retained        69      56       81.665854                     1356   \n",
       "\n",
       "    total_navigations_fav1  total_navigations_fav2  driven_km_drives  \\\n",
       "1                       19                      64      13715.920550   \n",
       "30                     106                      21      10573.019780   \n",
       "48                     335                      28       9947.593149   \n",
       "59                     169                       0      11556.277480   \n",
       "62                     373                       0      11014.870140   \n",
       "\n",
       "    duration_minutes_drives  activity_days  driving_days   device  \n",
       "1               3160.472914             13            11   iPhone  \n",
       "30              6978.070441             31            26   iPhone  \n",
       "48              3369.145354              8             2   iPhone  \n",
       "59              4966.840886             27            26  Android  \n",
       "62              9143.800241             24            23   iPhone  "
      ]
     },
     "execution_count": 58,
     "metadata": {},
     "output_type": "execute_result"
    }
   ],
   "source": [
    "outliers.head()"
   ]
  },
  {
   "cell_type": "markdown",
   "id": "27014ca0",
   "metadata": {},
   "source": [
    "## PACE: Construct Stage"
   ]
  },
  {
   "cell_type": "markdown",
   "id": "ed530e49",
   "metadata": {},
   "source": [
    "Now that we have identified the outliers in the data, we can decide weither to keep the outliers or drop depending on the machine learning model we choose. In our case we will keep the outliers"
   ]
  },
  {
   "cell_type": "markdown",
   "id": "6369e424",
   "metadata": {},
   "source": [
    "We will check for class imbalance in the data set "
   ]
  },
  {
   "cell_type": "code",
   "execution_count": 59,
   "id": "a2ed8379",
   "metadata": {},
   "outputs": [
    {
     "data": {
      "text/plain": [
       "retained    0.822645\n",
       "churned     0.177355\n",
       "Name: label, dtype: float64"
      ]
     },
     "execution_count": 59,
     "metadata": {},
     "output_type": "execute_result"
    }
   ],
   "source": [
    "df['label'].value_counts(normalize=True)"
   ]
  },
  {
   "cell_type": "markdown",
   "id": "d068f67f",
   "metadata": {},
   "source": [
    " We can see that there is class imbalance in the data seet where retained class outweights the churned class but it is around 80/2 so we will proceed with it."
   ]
  },
  {
   "cell_type": "code",
   "execution_count": 60,
   "id": "320d5257",
   "metadata": {},
   "outputs": [],
   "source": [
    "#Creating a binary variable\n",
    "df['label']= np.where(df['label']=='churned', 1,0)"
   ]
  },
  {
   "cell_type": "code",
   "execution_count": 61,
   "id": "73a163c5",
   "metadata": {},
   "outputs": [
    {
     "data": {
      "text/html": [
       "<div>\n",
       "<style scoped>\n",
       "    .dataframe tbody tr th:only-of-type {\n",
       "        vertical-align: middle;\n",
       "    }\n",
       "\n",
       "    .dataframe tbody tr th {\n",
       "        vertical-align: top;\n",
       "    }\n",
       "\n",
       "    .dataframe thead th {\n",
       "        text-align: right;\n",
       "    }\n",
       "</style>\n",
       "<table border=\"1\" class=\"dataframe\">\n",
       "  <thead>\n",
       "    <tr style=\"text-align: right;\">\n",
       "      <th></th>\n",
       "      <th>ID</th>\n",
       "      <th>label</th>\n",
       "      <th>sessions</th>\n",
       "      <th>drives</th>\n",
       "      <th>total_sessions</th>\n",
       "      <th>n_days_after_onboarding</th>\n",
       "      <th>total_navigations_fav1</th>\n",
       "      <th>total_navigations_fav2</th>\n",
       "      <th>driven_km_drives</th>\n",
       "      <th>duration_minutes_drives</th>\n",
       "      <th>activity_days</th>\n",
       "      <th>driving_days</th>\n",
       "      <th>device</th>\n",
       "    </tr>\n",
       "  </thead>\n",
       "  <tbody>\n",
       "    <tr>\n",
       "      <th>0</th>\n",
       "      <td>0</td>\n",
       "      <td>0</td>\n",
       "      <td>283</td>\n",
       "      <td>226</td>\n",
       "      <td>296.748273</td>\n",
       "      <td>2276</td>\n",
       "      <td>208</td>\n",
       "      <td>0</td>\n",
       "      <td>2628.845068</td>\n",
       "      <td>1985.775061</td>\n",
       "      <td>28</td>\n",
       "      <td>19</td>\n",
       "      <td>Android</td>\n",
       "    </tr>\n",
       "    <tr>\n",
       "      <th>1</th>\n",
       "      <td>1</td>\n",
       "      <td>0</td>\n",
       "      <td>133</td>\n",
       "      <td>107</td>\n",
       "      <td>326.896596</td>\n",
       "      <td>1225</td>\n",
       "      <td>19</td>\n",
       "      <td>64</td>\n",
       "      <td>13715.920550</td>\n",
       "      <td>3160.472914</td>\n",
       "      <td>13</td>\n",
       "      <td>11</td>\n",
       "      <td>iPhone</td>\n",
       "    </tr>\n",
       "    <tr>\n",
       "      <th>2</th>\n",
       "      <td>2</td>\n",
       "      <td>0</td>\n",
       "      <td>114</td>\n",
       "      <td>95</td>\n",
       "      <td>135.522926</td>\n",
       "      <td>2651</td>\n",
       "      <td>0</td>\n",
       "      <td>0</td>\n",
       "      <td>3059.148818</td>\n",
       "      <td>1610.735904</td>\n",
       "      <td>14</td>\n",
       "      <td>8</td>\n",
       "      <td>Android</td>\n",
       "    </tr>\n",
       "    <tr>\n",
       "      <th>3</th>\n",
       "      <td>3</td>\n",
       "      <td>0</td>\n",
       "      <td>49</td>\n",
       "      <td>40</td>\n",
       "      <td>67.589221</td>\n",
       "      <td>15</td>\n",
       "      <td>322</td>\n",
       "      <td>7</td>\n",
       "      <td>913.591123</td>\n",
       "      <td>587.196542</td>\n",
       "      <td>7</td>\n",
       "      <td>3</td>\n",
       "      <td>iPhone</td>\n",
       "    </tr>\n",
       "    <tr>\n",
       "      <th>4</th>\n",
       "      <td>4</td>\n",
       "      <td>0</td>\n",
       "      <td>84</td>\n",
       "      <td>68</td>\n",
       "      <td>168.247020</td>\n",
       "      <td>1562</td>\n",
       "      <td>166</td>\n",
       "      <td>5</td>\n",
       "      <td>3950.202008</td>\n",
       "      <td>1219.555924</td>\n",
       "      <td>27</td>\n",
       "      <td>18</td>\n",
       "      <td>Android</td>\n",
       "    </tr>\n",
       "  </tbody>\n",
       "</table>\n",
       "</div>"
      ],
      "text/plain": [
       "   ID  label  sessions  drives  total_sessions  n_days_after_onboarding  \\\n",
       "0   0      0       283     226      296.748273                     2276   \n",
       "1   1      0       133     107      326.896596                     1225   \n",
       "2   2      0       114      95      135.522926                     2651   \n",
       "3   3      0        49      40       67.589221                       15   \n",
       "4   4      0        84      68      168.247020                     1562   \n",
       "\n",
       "   total_navigations_fav1  total_navigations_fav2  driven_km_drives  \\\n",
       "0                     208                       0       2628.845068   \n",
       "1                      19                      64      13715.920550   \n",
       "2                       0                       0       3059.148818   \n",
       "3                     322                       7        913.591123   \n",
       "4                     166                       5       3950.202008   \n",
       "\n",
       "   duration_minutes_drives  activity_days  driving_days   device  \n",
       "0              1985.775061             28            19  Android  \n",
       "1              3160.472914             13            11   iPhone  \n",
       "2              1610.735904             14             8  Android  \n",
       "3               587.196542              7             3   iPhone  \n",
       "4              1219.555924             27            18  Android  "
      ]
     },
     "execution_count": 61,
     "metadata": {},
     "output_type": "execute_result"
    }
   ],
   "source": [
    "df.head()"
   ]
  },
  {
   "cell_type": "code",
   "execution_count": 62,
   "id": "c7604808",
   "metadata": {},
   "outputs": [],
   "source": [
    "df.drop('ID', axis=1, inplace=True)"
   ]
  },
  {
   "cell_type": "code",
   "execution_count": 63,
   "id": "d8c3b372",
   "metadata": {},
   "outputs": [],
   "source": [
    "df['device']= np.where(df['device']=='Android',0,1)"
   ]
  },
  {
   "cell_type": "code",
   "execution_count": 64,
   "id": "ccb225a0",
   "metadata": {},
   "outputs": [
    {
     "data": {
      "text/html": [
       "<div>\n",
       "<style scoped>\n",
       "    .dataframe tbody tr th:only-of-type {\n",
       "        vertical-align: middle;\n",
       "    }\n",
       "\n",
       "    .dataframe tbody tr th {\n",
       "        vertical-align: top;\n",
       "    }\n",
       "\n",
       "    .dataframe thead th {\n",
       "        text-align: right;\n",
       "    }\n",
       "</style>\n",
       "<table border=\"1\" class=\"dataframe\">\n",
       "  <thead>\n",
       "    <tr style=\"text-align: right;\">\n",
       "      <th></th>\n",
       "      <th>label</th>\n",
       "      <th>sessions</th>\n",
       "      <th>drives</th>\n",
       "      <th>total_sessions</th>\n",
       "      <th>n_days_after_onboarding</th>\n",
       "      <th>total_navigations_fav1</th>\n",
       "      <th>total_navigations_fav2</th>\n",
       "      <th>driven_km_drives</th>\n",
       "      <th>duration_minutes_drives</th>\n",
       "      <th>activity_days</th>\n",
       "      <th>driving_days</th>\n",
       "      <th>device</th>\n",
       "    </tr>\n",
       "  </thead>\n",
       "  <tbody>\n",
       "    <tr>\n",
       "      <th>0</th>\n",
       "      <td>0</td>\n",
       "      <td>283</td>\n",
       "      <td>226</td>\n",
       "      <td>296.748273</td>\n",
       "      <td>2276</td>\n",
       "      <td>208</td>\n",
       "      <td>0</td>\n",
       "      <td>2628.845068</td>\n",
       "      <td>1985.775061</td>\n",
       "      <td>28</td>\n",
       "      <td>19</td>\n",
       "      <td>0</td>\n",
       "    </tr>\n",
       "    <tr>\n",
       "      <th>1</th>\n",
       "      <td>0</td>\n",
       "      <td>133</td>\n",
       "      <td>107</td>\n",
       "      <td>326.896596</td>\n",
       "      <td>1225</td>\n",
       "      <td>19</td>\n",
       "      <td>64</td>\n",
       "      <td>13715.920550</td>\n",
       "      <td>3160.472914</td>\n",
       "      <td>13</td>\n",
       "      <td>11</td>\n",
       "      <td>1</td>\n",
       "    </tr>\n",
       "    <tr>\n",
       "      <th>2</th>\n",
       "      <td>0</td>\n",
       "      <td>114</td>\n",
       "      <td>95</td>\n",
       "      <td>135.522926</td>\n",
       "      <td>2651</td>\n",
       "      <td>0</td>\n",
       "      <td>0</td>\n",
       "      <td>3059.148818</td>\n",
       "      <td>1610.735904</td>\n",
       "      <td>14</td>\n",
       "      <td>8</td>\n",
       "      <td>0</td>\n",
       "    </tr>\n",
       "    <tr>\n",
       "      <th>3</th>\n",
       "      <td>0</td>\n",
       "      <td>49</td>\n",
       "      <td>40</td>\n",
       "      <td>67.589221</td>\n",
       "      <td>15</td>\n",
       "      <td>322</td>\n",
       "      <td>7</td>\n",
       "      <td>913.591123</td>\n",
       "      <td>587.196542</td>\n",
       "      <td>7</td>\n",
       "      <td>3</td>\n",
       "      <td>1</td>\n",
       "    </tr>\n",
       "    <tr>\n",
       "      <th>4</th>\n",
       "      <td>0</td>\n",
       "      <td>84</td>\n",
       "      <td>68</td>\n",
       "      <td>168.247020</td>\n",
       "      <td>1562</td>\n",
       "      <td>166</td>\n",
       "      <td>5</td>\n",
       "      <td>3950.202008</td>\n",
       "      <td>1219.555924</td>\n",
       "      <td>27</td>\n",
       "      <td>18</td>\n",
       "      <td>0</td>\n",
       "    </tr>\n",
       "  </tbody>\n",
       "</table>\n",
       "</div>"
      ],
      "text/plain": [
       "   label  sessions  drives  total_sessions  n_days_after_onboarding  \\\n",
       "0      0       283     226      296.748273                     2276   \n",
       "1      0       133     107      326.896596                     1225   \n",
       "2      0       114      95      135.522926                     2651   \n",
       "3      0        49      40       67.589221                       15   \n",
       "4      0        84      68      168.247020                     1562   \n",
       "\n",
       "   total_navigations_fav1  total_navigations_fav2  driven_km_drives  \\\n",
       "0                     208                       0       2628.845068   \n",
       "1                      19                      64      13715.920550   \n",
       "2                       0                       0       3059.148818   \n",
       "3                     322                       7        913.591123   \n",
       "4                     166                       5       3950.202008   \n",
       "\n",
       "   duration_minutes_drives  activity_days  driving_days  device  \n",
       "0              1985.775061             28            19       0  \n",
       "1              3160.472914             13            11       1  \n",
       "2              1610.735904             14             8       0  \n",
       "3               587.196542              7             3       1  \n",
       "4              1219.555924             27            18       0  "
      ]
     },
     "execution_count": 64,
     "metadata": {},
     "output_type": "execute_result"
    }
   ],
   "source": [
    "df.head()"
   ]
  },
  {
   "cell_type": "code",
   "execution_count": 66,
   "id": "d16868ed",
   "metadata": {},
   "outputs": [],
   "source": [
    "df1= df.copy()"
   ]
  },
  {
   "cell_type": "code",
   "execution_count": 67,
   "id": "f04c4963",
   "metadata": {},
   "outputs": [
    {
     "data": {
      "text/plain": [
       "total_sessions             float64\n",
       "driven_km_drives           float64\n",
       "duration_minutes_drives    float64\n",
       "label                        int64\n",
       "sessions                     int64\n",
       "drives                       int64\n",
       "n_days_after_onboarding      int64\n",
       "total_navigations_fav1       int64\n",
       "total_navigations_fav2       int64\n",
       "activity_days                int64\n",
       "driving_days                 int64\n",
       "device                       int64\n",
       "dtype: object"
      ]
     },
     "execution_count": 67,
     "metadata": {},
     "output_type": "execute_result"
    }
   ],
   "source": [
    "df1.dtypes.sort_values(ascending=False)"
   ]
  },
  {
   "cell_type": "markdown",
   "id": "4fba5a01",
   "metadata": {},
   "source": [
    "### Feature engineering "
   ]
  },
  {
   "cell_type": "markdown",
   "id": "5dd62356",
   "metadata": {},
   "source": [
    "### Creating `km_per_driving_day` variable "
   ]
  },
  {
   "cell_type": "code",
   "execution_count": 68,
   "id": "d33f8edb",
   "metadata": {},
   "outputs": [],
   "source": [
    "df1['km_per_driving_day']= df1['driven_km_drives']/ df1['driving_days']"
   ]
  },
  {
   "cell_type": "code",
   "execution_count": 69,
   "id": "710b7ffb",
   "metadata": {},
   "outputs": [
    {
     "data": {
      "text/plain": [
       "count    1.429900e+04\n",
       "mean              inf\n",
       "std               NaN\n",
       "min      3.022063e+00\n",
       "25%      1.675616e+02\n",
       "50%      3.241789e+02\n",
       "75%      7.608293e+02\n",
       "max               inf\n",
       "Name: km_per_driving_day, dtype: float64"
      ]
     },
     "execution_count": 69,
     "metadata": {},
     "output_type": "execute_result"
    }
   ],
   "source": [
    "#Get the descriptive stats'\n",
    "df1['km_per_driving_day'].describe()"
   ]
  },
  {
   "cell_type": "markdown",
   "id": "6daf8a93",
   "metadata": {},
   "source": [
    "Some of the values are infinitive because of zero in the denominator. We will get rid of infinite values in the dataset and convert it in to zeros"
   ]
  },
  {
   "cell_type": "code",
   "execution_count": 70,
   "id": "3d19fb5a",
   "metadata": {},
   "outputs": [
    {
     "data": {
      "text/plain": [
       "count    14299.000000\n",
       "mean       581.942399\n",
       "std       1038.254509\n",
       "min          0.000000\n",
       "25%        136.168003\n",
       "50%        273.301012\n",
       "75%        558.018761\n",
       "max      15420.234110\n",
       "Name: km_per_driving_day, dtype: float64"
      ]
     },
     "execution_count": 70,
     "metadata": {},
     "output_type": "execute_result"
    }
   ],
   "source": [
    "df1.loc[df1['km_per_driving_day']==np.inf, 'km_per_driving_day'] = 0\n",
    "df1['km_per_driving_day'].describe()"
   ]
  },
  {
   "cell_type": "markdown",
   "id": "67745da5",
   "metadata": {},
   "source": [
    "We can now see that the infinity values have been replaced with zeros."
   ]
  },
  {
   "cell_type": "markdown",
   "id": "37afd992",
   "metadata": {},
   "source": [
    "### Creating `percent_session_in_last_month` variable "
   ]
  },
  {
   "cell_type": "code",
   "execution_count": 71,
   "id": "4b799c9a",
   "metadata": {},
   "outputs": [
    {
     "data": {
      "text/plain": [
       "count    14299.000000\n",
       "mean         0.449837\n",
       "std          0.286863\n",
       "min          0.000000\n",
       "25%          0.196890\n",
       "50%          0.424310\n",
       "75%          0.687251\n",
       "max          1.530637\n",
       "Name: percent_session_in_last_month, dtype: float64"
      ]
     },
     "execution_count": 71,
     "metadata": {},
     "output_type": "execute_result"
    }
   ],
   "source": [
    "df1['percent_session_in_last_month'] = df1['sessions'] / df1['total_sessions']\n",
    "#Get the decriptive stats\n",
    "df1['percent_session_in_last_month'].describe()"
   ]
  },
  {
   "cell_type": "markdown",
   "id": "e8151d88",
   "metadata": {},
   "source": [
    "### Creating `professional_driver` variable "
   ]
  },
  {
   "cell_type": "code",
   "execution_count": 72,
   "id": "07f867ba",
   "metadata": {},
   "outputs": [],
   "source": [
    "#Create a professional driver variable wih conditions using np.where function \n",
    "\n",
    "df1['professional_driver']= np.where((df1['driving_days']>= 15) & (df1['drives']>=60),1,0)"
   ]
  },
  {
   "cell_type": "code",
   "execution_count": 73,
   "id": "aa0d73d6",
   "metadata": {},
   "outputs": [
    {
     "data": {
      "text/plain": [
       "0    11811\n",
       "1     2488\n",
       "Name: professional_driver, dtype: int64"
      ]
     },
     "execution_count": 73,
     "metadata": {},
     "output_type": "execute_result"
    }
   ],
   "source": [
    "df1['professional_driver'].value_counts()"
   ]
  },
  {
   "cell_type": "code",
   "execution_count": 74,
   "id": "b8cd43c7",
   "metadata": {},
   "outputs": [],
   "source": [
    "# Create `total_sessions_per_day` feature\n",
    "df1['total_sessions_per_day'] = df1['total_sessions'] / df1['n_days_after_onboarding']"
   ]
  },
  {
   "cell_type": "markdown",
   "id": "14ee6d7f",
   "metadata": {},
   "source": [
    "### Creating `total_session_per_day` variable "
   ]
  },
  {
   "cell_type": "code",
   "execution_count": 75,
   "id": "52a31af8",
   "metadata": {},
   "outputs": [
    {
     "data": {
      "text/plain": [
       "count    14299.000000\n",
       "mean         0.338207\n",
       "std          1.319814\n",
       "min          0.000298\n",
       "25%          0.050818\n",
       "50%          0.100457\n",
       "75%          0.215210\n",
       "max         39.763874\n",
       "Name: total_sessions_per_day, dtype: float64"
      ]
     },
     "execution_count": 75,
     "metadata": {},
     "output_type": "execute_result"
    }
   ],
   "source": [
    "df1['total_sessions_per_day'].describe()"
   ]
  },
  {
   "cell_type": "markdown",
   "id": "780f9358",
   "metadata": {},
   "source": [
    "### Creating **`km_hour`** variable "
   ]
  },
  {
   "cell_type": "code",
   "execution_count": 76,
   "id": "2a83aead",
   "metadata": {},
   "outputs": [],
   "source": [
    "#create Km per hour feature\n",
    "df1['km_hour'] = df1['driven_km_drives']/(df1['duration_minutes_drives']/60)"
   ]
  },
  {
   "cell_type": "code",
   "execution_count": 77,
   "id": "f3fbb410",
   "metadata": {},
   "outputs": [
    {
     "data": {
      "text/plain": [
       "count    14299.000000\n",
       "mean       190.730963\n",
       "std        339.926138\n",
       "min         72.013095\n",
       "25%         90.649402\n",
       "50%        122.105845\n",
       "75%        193.238449\n",
       "max      23642.920871\n",
       "Name: km_hour, dtype: float64"
      ]
     },
     "execution_count": 77,
     "metadata": {},
     "output_type": "execute_result"
    }
   ],
   "source": [
    "df1['km_hour'].describe()"
   ]
  },
  {
   "cell_type": "markdown",
   "id": "4a522ed2",
   "metadata": {},
   "source": [
    "### Creating `km_per_drive` variable "
   ]
  },
  {
   "cell_type": "code",
   "execution_count": 78,
   "id": "1430fc7d",
   "metadata": {},
   "outputs": [],
   "source": [
    "df1['km_per_drive']= df1['driven_km_drives']/df1['drives']"
   ]
  },
  {
   "cell_type": "code",
   "execution_count": 79,
   "id": "d8771bc2",
   "metadata": {},
   "outputs": [
    {
     "data": {
      "text/plain": [
       "count    1.429900e+04\n",
       "mean              inf\n",
       "std               NaN\n",
       "min      1.008775e+00\n",
       "25%      3.325389e+01\n",
       "50%      7.490594e+01\n",
       "75%      1.854667e+02\n",
       "max               inf\n",
       "Name: km_per_drive, dtype: float64"
      ]
     },
     "execution_count": 79,
     "metadata": {},
     "output_type": "execute_result"
    }
   ],
   "source": [
    "df1['km_per_drive'].describe()"
   ]
  },
  {
   "cell_type": "code",
   "execution_count": 80,
   "id": "c2cda22a",
   "metadata": {},
   "outputs": [],
   "source": [
    "#Converting the infinite values to zero\n",
    "df1.loc[df1['km_per_drive']==np.inf, 'km_per_drive']=0\n"
   ]
  },
  {
   "cell_type": "code",
   "execution_count": 81,
   "id": "5d4ebc56",
   "metadata": {},
   "outputs": [
    {
     "data": {
      "text/plain": [
       "count    14299.000000\n",
       "mean       232.269197\n",
       "std        616.197409\n",
       "min          0.000000\n",
       "25%         32.486524\n",
       "50%         72.947059\n",
       "75%        179.347527\n",
       "max      15777.426560\n",
       "Name: km_per_drive, dtype: float64"
      ]
     },
     "execution_count": 81,
     "metadata": {},
     "output_type": "execute_result"
    }
   ],
   "source": [
    "df1['km_per_drive'].describe()"
   ]
  },
  {
   "cell_type": "markdown",
   "id": "414a1fd8",
   "metadata": {},
   "source": [
    "As we can see that the infinity values have been replaced with zeros."
   ]
  },
  {
   "cell_type": "code",
   "execution_count": 82,
   "id": "438706bf",
   "metadata": {
    "scrolled": true
   },
   "outputs": [
    {
     "data": {
      "text/html": [
       "<div>\n",
       "<style scoped>\n",
       "    .dataframe tbody tr th:only-of-type {\n",
       "        vertical-align: middle;\n",
       "    }\n",
       "\n",
       "    .dataframe tbody tr th {\n",
       "        vertical-align: top;\n",
       "    }\n",
       "\n",
       "    .dataframe thead th {\n",
       "        text-align: right;\n",
       "    }\n",
       "</style>\n",
       "<table border=\"1\" class=\"dataframe\">\n",
       "  <thead>\n",
       "    <tr style=\"text-align: right;\">\n",
       "      <th></th>\n",
       "      <th>label</th>\n",
       "      <th>sessions</th>\n",
       "      <th>drives</th>\n",
       "      <th>total_sessions</th>\n",
       "      <th>n_days_after_onboarding</th>\n",
       "      <th>total_navigations_fav1</th>\n",
       "      <th>total_navigations_fav2</th>\n",
       "      <th>driven_km_drives</th>\n",
       "      <th>duration_minutes_drives</th>\n",
       "      <th>activity_days</th>\n",
       "      <th>driving_days</th>\n",
       "      <th>device</th>\n",
       "      <th>km_per_driving_day</th>\n",
       "      <th>percent_session_in_last_month</th>\n",
       "      <th>professional_driver</th>\n",
       "      <th>total_sessions_per_day</th>\n",
       "      <th>km_hour</th>\n",
       "      <th>km_per_drive</th>\n",
       "    </tr>\n",
       "  </thead>\n",
       "  <tbody>\n",
       "    <tr>\n",
       "      <th>0</th>\n",
       "      <td>0</td>\n",
       "      <td>283</td>\n",
       "      <td>226</td>\n",
       "      <td>296.748273</td>\n",
       "      <td>2276</td>\n",
       "      <td>208</td>\n",
       "      <td>0</td>\n",
       "      <td>2628.845068</td>\n",
       "      <td>1985.775061</td>\n",
       "      <td>28</td>\n",
       "      <td>19</td>\n",
       "      <td>0</td>\n",
       "      <td>138.360267</td>\n",
       "      <td>0.953670</td>\n",
       "      <td>1</td>\n",
       "      <td>0.130381</td>\n",
       "      <td>79.430298</td>\n",
       "      <td>11.632058</td>\n",
       "    </tr>\n",
       "    <tr>\n",
       "      <th>1</th>\n",
       "      <td>0</td>\n",
       "      <td>133</td>\n",
       "      <td>107</td>\n",
       "      <td>326.896596</td>\n",
       "      <td>1225</td>\n",
       "      <td>19</td>\n",
       "      <td>64</td>\n",
       "      <td>13715.920550</td>\n",
       "      <td>3160.472914</td>\n",
       "      <td>13</td>\n",
       "      <td>11</td>\n",
       "      <td>1</td>\n",
       "      <td>1246.901868</td>\n",
       "      <td>0.406856</td>\n",
       "      <td>0</td>\n",
       "      <td>0.266854</td>\n",
       "      <td>260.389902</td>\n",
       "      <td>128.186173</td>\n",
       "    </tr>\n",
       "    <tr>\n",
       "      <th>2</th>\n",
       "      <td>0</td>\n",
       "      <td>114</td>\n",
       "      <td>95</td>\n",
       "      <td>135.522926</td>\n",
       "      <td>2651</td>\n",
       "      <td>0</td>\n",
       "      <td>0</td>\n",
       "      <td>3059.148818</td>\n",
       "      <td>1610.735904</td>\n",
       "      <td>14</td>\n",
       "      <td>8</td>\n",
       "      <td>0</td>\n",
       "      <td>382.393602</td>\n",
       "      <td>0.841186</td>\n",
       "      <td>0</td>\n",
       "      <td>0.051121</td>\n",
       "      <td>113.953460</td>\n",
       "      <td>32.201567</td>\n",
       "    </tr>\n",
       "    <tr>\n",
       "      <th>3</th>\n",
       "      <td>0</td>\n",
       "      <td>49</td>\n",
       "      <td>40</td>\n",
       "      <td>67.589221</td>\n",
       "      <td>15</td>\n",
       "      <td>322</td>\n",
       "      <td>7</td>\n",
       "      <td>913.591123</td>\n",
       "      <td>587.196542</td>\n",
       "      <td>7</td>\n",
       "      <td>3</td>\n",
       "      <td>1</td>\n",
       "      <td>304.530374</td>\n",
       "      <td>0.724968</td>\n",
       "      <td>0</td>\n",
       "      <td>4.505948</td>\n",
       "      <td>93.351141</td>\n",
       "      <td>22.839778</td>\n",
       "    </tr>\n",
       "    <tr>\n",
       "      <th>4</th>\n",
       "      <td>0</td>\n",
       "      <td>84</td>\n",
       "      <td>68</td>\n",
       "      <td>168.247020</td>\n",
       "      <td>1562</td>\n",
       "      <td>166</td>\n",
       "      <td>5</td>\n",
       "      <td>3950.202008</td>\n",
       "      <td>1219.555924</td>\n",
       "      <td>27</td>\n",
       "      <td>18</td>\n",
       "      <td>0</td>\n",
       "      <td>219.455667</td>\n",
       "      <td>0.499266</td>\n",
       "      <td>1</td>\n",
       "      <td>0.107713</td>\n",
       "      <td>194.342970</td>\n",
       "      <td>58.091206</td>\n",
       "    </tr>\n",
       "  </tbody>\n",
       "</table>\n",
       "</div>"
      ],
      "text/plain": [
       "   label  sessions  drives  total_sessions  n_days_after_onboarding  \\\n",
       "0      0       283     226      296.748273                     2276   \n",
       "1      0       133     107      326.896596                     1225   \n",
       "2      0       114      95      135.522926                     2651   \n",
       "3      0        49      40       67.589221                       15   \n",
       "4      0        84      68      168.247020                     1562   \n",
       "\n",
       "   total_navigations_fav1  total_navigations_fav2  driven_km_drives  \\\n",
       "0                     208                       0       2628.845068   \n",
       "1                      19                      64      13715.920550   \n",
       "2                       0                       0       3059.148818   \n",
       "3                     322                       7        913.591123   \n",
       "4                     166                       5       3950.202008   \n",
       "\n",
       "   duration_minutes_drives  activity_days  driving_days  device  \\\n",
       "0              1985.775061             28            19       0   \n",
       "1              3160.472914             13            11       1   \n",
       "2              1610.735904             14             8       0   \n",
       "3               587.196542              7             3       1   \n",
       "4              1219.555924             27            18       0   \n",
       "\n",
       "   km_per_driving_day  percent_session_in_last_month  professional_driver  \\\n",
       "0          138.360267                       0.953670                    1   \n",
       "1         1246.901868                       0.406856                    0   \n",
       "2          382.393602                       0.841186                    0   \n",
       "3          304.530374                       0.724968                    0   \n",
       "4          219.455667                       0.499266                    1   \n",
       "\n",
       "   total_sessions_per_day     km_hour  km_per_drive  \n",
       "0                0.130381   79.430298     11.632058  \n",
       "1                0.266854  260.389902    128.186173  \n",
       "2                0.051121  113.953460     32.201567  \n",
       "3                4.505948   93.351141     22.839778  \n",
       "4                0.107713  194.342970     58.091206  "
      ]
     },
     "execution_count": 82,
     "metadata": {},
     "output_type": "execute_result"
    }
   ],
   "source": [
    "df1.head()"
   ]
  },
  {
   "cell_type": "markdown",
   "id": "94ac4288",
   "metadata": {},
   "source": [
    "We will isolate the response variable and predictor variables to further split the data"
   ]
  },
  {
   "cell_type": "code",
   "execution_count": 83,
   "id": "899ee0fb",
   "metadata": {},
   "outputs": [],
   "source": [
    "y= df1['label']\n",
    "X= df1.copy()\n",
    "X= X.drop('label', axis=1)"
   ]
  },
  {
   "cell_type": "code",
   "execution_count": 84,
   "id": "0006864c",
   "metadata": {},
   "outputs": [],
   "source": [
    "#Split the data in to training and test \n",
    "X_train, X_test, y_train, y_test=train_test_split(X, y, test_size=0.25, stratify=y, random_state=42)"
   ]
  },
  {
   "cell_type": "code",
   "execution_count": 85,
   "id": "e1c7e0f3",
   "metadata": {},
   "outputs": [],
   "source": [
    "#Split the data in to train and validate sets \n",
    "X_train, X_val, y_train, y_val=train_test_split(X_train, y_train, stratify=y_train, test_size=0.25, random_state=42 )"
   ]
  },
  {
   "cell_type": "code",
   "execution_count": 86,
   "id": "0bdba780",
   "metadata": {},
   "outputs": [
    {
     "name": "stdout",
     "output_type": "stream",
     "text": [
      "8043\n",
      "2681\n",
      "3575\n"
     ]
    }
   ],
   "source": [
    "for x in [X_train, X_val, X_test]:\n",
    "    print(len(x))"
   ]
  },
  {
   "cell_type": "markdown",
   "id": "7b405e24",
   "metadata": {},
   "source": [
    "We will begin by using `GridSearchCV` to tune a random forest model.\n",
    "Initiate random forest classifier `rf` and set the random state \n",
    "\n",
    "Create a dictionary `cv_params` of the following hyperparameters and their corrosponding values to tune \n",
    "- `max_depth`\n",
    " - `max_features`\n",
    " - `max_samples`\n",
    " - `min_samples_leaf`\n",
    " - `min_samples_split`\n",
    " - `n_estimators`"
   ]
  },
  {
   "cell_type": "code",
   "execution_count": 87,
   "id": "458ba704",
   "metadata": {},
   "outputs": [],
   "source": [
    "#Instantiate a random forest classifier\n",
    "rf= RandomForestClassifier(random_state=42)\n",
    "#Create a dictionay of hyper parameters\n",
    "cv_params={'max_depth':[None],\n",
    "          'max_features':[1.0],\n",
    "          'max_samples':[1.0],\n",
    "          'min_samples_leaf':[2],\n",
    "          'min_samples_split':[2],\n",
    "          'n_estimators':[300],}\n",
    "#define a dictionary for scoring metrics\n",
    "scoring={'accuracy','precision','recall','f1'}\n",
    "#Instantiate  GridSearch Cv\n",
    "rf_cv=GridSearchCV(rf, cv_params, scoring=scoring, cv=4,refit='recall')"
   ]
  },
  {
   "cell_type": "code",
   "execution_count": 88,
   "id": "b5e24b49",
   "metadata": {},
   "outputs": [
    {
     "name": "stdout",
     "output_type": "stream",
     "text": [
      "CPU times: user 1min 25s, sys: 157 ms, total: 1min 25s\n",
      "Wall time: 1min 25s\n"
     ]
    },
    {
     "data": {
      "text/html": [
       "<style>#sk-container-id-1 {color: black;background-color: white;}#sk-container-id-1 pre{padding: 0;}#sk-container-id-1 div.sk-toggleable {background-color: white;}#sk-container-id-1 label.sk-toggleable__label {cursor: pointer;display: block;width: 100%;margin-bottom: 0;padding: 0.3em;box-sizing: border-box;text-align: center;}#sk-container-id-1 label.sk-toggleable__label-arrow:before {content: \"▸\";float: left;margin-right: 0.25em;color: #696969;}#sk-container-id-1 label.sk-toggleable__label-arrow:hover:before {color: black;}#sk-container-id-1 div.sk-estimator:hover label.sk-toggleable__label-arrow:before {color: black;}#sk-container-id-1 div.sk-toggleable__content {max-height: 0;max-width: 0;overflow: hidden;text-align: left;background-color: #f0f8ff;}#sk-container-id-1 div.sk-toggleable__content pre {margin: 0.2em;color: black;border-radius: 0.25em;background-color: #f0f8ff;}#sk-container-id-1 input.sk-toggleable__control:checked~div.sk-toggleable__content {max-height: 200px;max-width: 100%;overflow: auto;}#sk-container-id-1 input.sk-toggleable__control:checked~label.sk-toggleable__label-arrow:before {content: \"▾\";}#sk-container-id-1 div.sk-estimator input.sk-toggleable__control:checked~label.sk-toggleable__label {background-color: #d4ebff;}#sk-container-id-1 div.sk-label input.sk-toggleable__control:checked~label.sk-toggleable__label {background-color: #d4ebff;}#sk-container-id-1 input.sk-hidden--visually {border: 0;clip: rect(1px 1px 1px 1px);clip: rect(1px, 1px, 1px, 1px);height: 1px;margin: -1px;overflow: hidden;padding: 0;position: absolute;width: 1px;}#sk-container-id-1 div.sk-estimator {font-family: monospace;background-color: #f0f8ff;border: 1px dotted black;border-radius: 0.25em;box-sizing: border-box;margin-bottom: 0.5em;}#sk-container-id-1 div.sk-estimator:hover {background-color: #d4ebff;}#sk-container-id-1 div.sk-parallel-item::after {content: \"\";width: 100%;border-bottom: 1px solid gray;flex-grow: 1;}#sk-container-id-1 div.sk-label:hover label.sk-toggleable__label {background-color: #d4ebff;}#sk-container-id-1 div.sk-serial::before {content: \"\";position: absolute;border-left: 1px solid gray;box-sizing: border-box;top: 0;bottom: 0;left: 50%;z-index: 0;}#sk-container-id-1 div.sk-serial {display: flex;flex-direction: column;align-items: center;background-color: white;padding-right: 0.2em;padding-left: 0.2em;position: relative;}#sk-container-id-1 div.sk-item {position: relative;z-index: 1;}#sk-container-id-1 div.sk-parallel {display: flex;align-items: stretch;justify-content: center;background-color: white;position: relative;}#sk-container-id-1 div.sk-item::before, #sk-container-id-1 div.sk-parallel-item::before {content: \"\";position: absolute;border-left: 1px solid gray;box-sizing: border-box;top: 0;bottom: 0;left: 50%;z-index: -1;}#sk-container-id-1 div.sk-parallel-item {display: flex;flex-direction: column;z-index: 1;position: relative;background-color: white;}#sk-container-id-1 div.sk-parallel-item:first-child::after {align-self: flex-end;width: 50%;}#sk-container-id-1 div.sk-parallel-item:last-child::after {align-self: flex-start;width: 50%;}#sk-container-id-1 div.sk-parallel-item:only-child::after {width: 0;}#sk-container-id-1 div.sk-dashed-wrapped {border: 1px dashed gray;margin: 0 0.4em 0.5em 0.4em;box-sizing: border-box;padding-bottom: 0.4em;background-color: white;}#sk-container-id-1 div.sk-label label {font-family: monospace;font-weight: bold;display: inline-block;line-height: 1.2em;}#sk-container-id-1 div.sk-label-container {text-align: center;}#sk-container-id-1 div.sk-container {/* jupyter's `normalize.less` sets `[hidden] { display: none; }` but bootstrap.min.css set `[hidden] { display: none !important; }` so we also need the `!important` here to be able to override the default hidden behavior on the sphinx rendered scikit-learn.org. See: https://github.com/scikit-learn/scikit-learn/issues/21755 */display: inline-block !important;position: relative;}#sk-container-id-1 div.sk-text-repr-fallback {display: none;}</style><div id=\"sk-container-id-1\" class=\"sk-top-container\"><div class=\"sk-text-repr-fallback\"><pre>GridSearchCV(cv=4, estimator=RandomForestClassifier(random_state=42),\n",
       "             param_grid={&#x27;max_depth&#x27;: [None], &#x27;max_features&#x27;: [1.0],\n",
       "                         &#x27;max_samples&#x27;: [1.0], &#x27;min_samples_leaf&#x27;: [2],\n",
       "                         &#x27;min_samples_split&#x27;: [2], &#x27;n_estimators&#x27;: [300]},\n",
       "             refit=&#x27;recall&#x27;, scoring={&#x27;accuracy&#x27;, &#x27;recall&#x27;, &#x27;f1&#x27;, &#x27;precision&#x27;})</pre><b>In a Jupyter environment, please rerun this cell to show the HTML representation or trust the notebook. <br />On GitHub, the HTML representation is unable to render, please try loading this page with nbviewer.org.</b></div><div class=\"sk-container\" hidden><div class=\"sk-item sk-dashed-wrapped\"><div class=\"sk-label-container\"><div class=\"sk-label sk-toggleable\"><input class=\"sk-toggleable__control sk-hidden--visually\" id=\"sk-estimator-id-1\" type=\"checkbox\" ><label for=\"sk-estimator-id-1\" class=\"sk-toggleable__label sk-toggleable__label-arrow\">GridSearchCV</label><div class=\"sk-toggleable__content\"><pre>GridSearchCV(cv=4, estimator=RandomForestClassifier(random_state=42),\n",
       "             param_grid={&#x27;max_depth&#x27;: [None], &#x27;max_features&#x27;: [1.0],\n",
       "                         &#x27;max_samples&#x27;: [1.0], &#x27;min_samples_leaf&#x27;: [2],\n",
       "                         &#x27;min_samples_split&#x27;: [2], &#x27;n_estimators&#x27;: [300]},\n",
       "             refit=&#x27;recall&#x27;, scoring={&#x27;accuracy&#x27;, &#x27;recall&#x27;, &#x27;f1&#x27;, &#x27;precision&#x27;})</pre></div></div></div><div class=\"sk-parallel\"><div class=\"sk-parallel-item\"><div class=\"sk-item\"><div class=\"sk-label-container\"><div class=\"sk-label sk-toggleable\"><input class=\"sk-toggleable__control sk-hidden--visually\" id=\"sk-estimator-id-2\" type=\"checkbox\" ><label for=\"sk-estimator-id-2\" class=\"sk-toggleable__label sk-toggleable__label-arrow\">estimator: RandomForestClassifier</label><div class=\"sk-toggleable__content\"><pre>RandomForestClassifier(random_state=42)</pre></div></div></div><div class=\"sk-serial\"><div class=\"sk-item\"><div class=\"sk-estimator sk-toggleable\"><input class=\"sk-toggleable__control sk-hidden--visually\" id=\"sk-estimator-id-3\" type=\"checkbox\" ><label for=\"sk-estimator-id-3\" class=\"sk-toggleable__label sk-toggleable__label-arrow\">RandomForestClassifier</label><div class=\"sk-toggleable__content\"><pre>RandomForestClassifier(random_state=42)</pre></div></div></div></div></div></div></div></div></div></div>"
      ],
      "text/plain": [
       "GridSearchCV(cv=4, estimator=RandomForestClassifier(random_state=42),\n",
       "             param_grid={'max_depth': [None], 'max_features': [1.0],\n",
       "                         'max_samples': [1.0], 'min_samples_leaf': [2],\n",
       "                         'min_samples_split': [2], 'n_estimators': [300]},\n",
       "             refit='recall', scoring={'accuracy', 'recall', 'f1', 'precision'})"
      ]
     },
     "execution_count": 88,
     "metadata": {},
     "output_type": "execute_result"
    }
   ],
   "source": [
    "%%time \n",
    "rf_cv.fit(X_train, y_train)"
   ]
  },
  {
   "cell_type": "code",
   "execution_count": 89,
   "id": "2a72065d",
   "metadata": {},
   "outputs": [
    {
     "data": {
      "text/plain": [
       "0.13805550310011644"
      ]
     },
     "execution_count": 89,
     "metadata": {},
     "output_type": "execute_result"
    }
   ],
   "source": [
    "rf_cv.best_score_"
   ]
  },
  {
   "cell_type": "code",
   "execution_count": 90,
   "id": "0f2241f3",
   "metadata": {},
   "outputs": [
    {
     "data": {
      "text/plain": [
       "{'max_depth': None,\n",
       " 'max_features': 1.0,\n",
       " 'max_samples': 1.0,\n",
       " 'min_samples_leaf': 2,\n",
       " 'min_samples_split': 2,\n",
       " 'n_estimators': 300}"
      ]
     },
     "execution_count": 90,
     "metadata": {},
     "output_type": "execute_result"
    }
   ],
   "source": [
    "rf_cv.best_params_"
   ]
  },
  {
   "cell_type": "markdown",
   "id": "ec9d6375",
   "metadata": {},
   "source": [
    "Extracting all the evaluation scores from GridSearch best model"
   ]
  },
  {
   "cell_type": "code",
   "execution_count": 91,
   "id": "492a8f7c",
   "metadata": {},
   "outputs": [],
   "source": [
    "def make_results(model_name:str, model_object, metric:str):\n",
    "    '''\n",
    "    Arguments:\n",
    "        model_name (string): what you want the model to be called in the output table\n",
    "        model_object: a fit GridSearchCV object\n",
    "        metric (string): precision, recall, f1, or accuracy\n",
    "\n",
    "    Returns a pandas df with the F1, recall, precision, and accuracy scores\n",
    "    for the model with the best mean 'metric' score across all validation folds.\n",
    "    '''\n",
    "\n",
    "    # Create dictionary that maps input metric to actual metric name in GridSearchCV\n",
    "    metric_dict = {'precision': 'mean_test_precision',\n",
    "                   'recall': 'mean_test_recall',\n",
    "                   'f1': 'mean_test_f1',\n",
    "                   'accuracy': 'mean_test_accuracy',\n",
    "                   }\n",
    "\n",
    "    # Get all the results from the CV and put them in a df\n",
    "    cv_results = pd.DataFrame(model_object.cv_results_)\n",
    "\n",
    "    # Isolate the row of the df with the max(metric) score\n",
    "    best_estimator_results = cv_results.iloc[cv_results[metric_dict[metric]].idxmax(), :]\n",
    "\n",
    "    # Extract accuracy, precision, recall, and f1 score from that row\n",
    "    f1 = best_estimator_results.mean_test_f1\n",
    "    recall = best_estimator_results.mean_test_recall\n",
    "    precision = best_estimator_results.mean_test_precision\n",
    "    accuracy = best_estimator_results.mean_test_accuracy\n",
    "\n",
    "    # Create table of results\n",
    "    table = pd.DataFrame({'model': [model_name],\n",
    "                          'precision': [precision],\n",
    "                          'recall': [recall],\n",
    "                          'F1': [f1],\n",
    "                          'accuracy': [accuracy],\n",
    "                          },\n",
    "                         )\n",
    "\n",
    "    return table"
   ]
  },
  {
   "cell_type": "code",
   "execution_count": 92,
   "id": "ee5a4970",
   "metadata": {},
   "outputs": [
    {
     "data": {
      "text/html": [
       "<div>\n",
       "<style scoped>\n",
       "    .dataframe tbody tr th:only-of-type {\n",
       "        vertical-align: middle;\n",
       "    }\n",
       "\n",
       "    .dataframe tbody tr th {\n",
       "        vertical-align: top;\n",
       "    }\n",
       "\n",
       "    .dataframe thead th {\n",
       "        text-align: right;\n",
       "    }\n",
       "</style>\n",
       "<table border=\"1\" class=\"dataframe\">\n",
       "  <thead>\n",
       "    <tr style=\"text-align: right;\">\n",
       "      <th></th>\n",
       "      <th>model</th>\n",
       "      <th>precision</th>\n",
       "      <th>recall</th>\n",
       "      <th>F1</th>\n",
       "      <th>accuracy</th>\n",
       "    </tr>\n",
       "  </thead>\n",
       "  <tbody>\n",
       "    <tr>\n",
       "      <th>0</th>\n",
       "      <td>Rf_cv</td>\n",
       "      <td>0.474219</td>\n",
       "      <td>0.138056</td>\n",
       "      <td>0.213815</td>\n",
       "      <td>0.819844</td>\n",
       "    </tr>\n",
       "  </tbody>\n",
       "</table>\n",
       "</div>"
      ],
      "text/plain": [
       "   model  precision    recall        F1  accuracy\n",
       "0  Rf_cv   0.474219  0.138056  0.213815  0.819844"
      ]
     },
     "execution_count": 92,
     "metadata": {},
     "output_type": "execute_result"
    }
   ],
   "source": [
    "results=make_results('Rf_cv', rf_cv, 'recall')\n",
    "results"
   ]
  },
  {
   "cell_type": "markdown",
   "id": "1ff20331",
   "metadata": {},
   "source": [
    "We will now try to improve the scores using an XGBoost model.\n",
    "\n",
    "1. Instantiate the XGBoost classifier `xgb` and set `objective='binary:logistic'`. Also set the random state.\n",
    "\n",
    "2. Create a dictionary `cv_params` of the following hyperparameters and their corresponding values to tune:\n",
    " - `max_depth`\n",
    " - `min_child_weight`\n",
    " - `learning_rate`\n",
    " - `n_estimators`\n",
    "\n",
    "3. Define a set `scoring` of scoring metrics for grid search to capture (precision, recall, F1 score, and accuracy).\n",
    "\n",
    "4. Instantiate the `GridSearchCV` object `xgb_cv`. Pass to it as arguments:\n",
    " - estimator=`xgb`\n",
    " - param_grid=`cv_params`\n",
    " - scoring=`scoring`\n",
    " - cv: define the number of cross-validation folds you want (`cv=_`)\n",
    " - refit: indicate which evaluation metric you want to use to select the model (`refit='recall'`)"
   ]
  },
  {
   "cell_type": "markdown",
   "id": "0008af0c",
   "metadata": {},
   "source": [
    "**XGboost** model"
   ]
  },
  {
   "cell_type": "code",
   "execution_count": 94,
   "id": "a2dc6af3",
   "metadata": {},
   "outputs": [],
   "source": [
    "#Instantiate the XGBoost classifier\n",
    "xgb = XGBClassifier(objective='binary:logistic', random_state=42)\n",
    "\n",
    "# 2. Create a dictionary of hyperparameters to tune\n",
    "cv_params = {'max_depth': [6, 12],\n",
    "             'min_child_weight': [3, 5],\n",
    "             'learning_rate': [0.01, 0.1],\n",
    "             'n_estimators': [300]\n",
    "             }\n",
    "\n",
    "# 3. Define a dictionary of scoring metrics to capture\n",
    "scoring = {'accuracy', 'precision', 'recall', 'f1'}\n",
    "\n",
    "# 4. Instantiate the GridSearchCV object\n",
    "xgb_cv = GridSearchCV(xgb, cv_params, scoring=scoring, cv=4, refit='recall')"
   ]
  },
  {
   "cell_type": "code",
   "execution_count": 95,
   "id": "b849509e",
   "metadata": {},
   "outputs": [
    {
     "name": "stdout",
     "output_type": "stream",
     "text": [
      "CPU times: user 3min 9s, sys: 4.1 s, total: 3min 13s\n",
      "Wall time: 24.5 s\n"
     ]
    },
    {
     "data": {
      "text/html": [
       "<style>#sk-container-id-2 {color: black;background-color: white;}#sk-container-id-2 pre{padding: 0;}#sk-container-id-2 div.sk-toggleable {background-color: white;}#sk-container-id-2 label.sk-toggleable__label {cursor: pointer;display: block;width: 100%;margin-bottom: 0;padding: 0.3em;box-sizing: border-box;text-align: center;}#sk-container-id-2 label.sk-toggleable__label-arrow:before {content: \"▸\";float: left;margin-right: 0.25em;color: #696969;}#sk-container-id-2 label.sk-toggleable__label-arrow:hover:before {color: black;}#sk-container-id-2 div.sk-estimator:hover label.sk-toggleable__label-arrow:before {color: black;}#sk-container-id-2 div.sk-toggleable__content {max-height: 0;max-width: 0;overflow: hidden;text-align: left;background-color: #f0f8ff;}#sk-container-id-2 div.sk-toggleable__content pre {margin: 0.2em;color: black;border-radius: 0.25em;background-color: #f0f8ff;}#sk-container-id-2 input.sk-toggleable__control:checked~div.sk-toggleable__content {max-height: 200px;max-width: 100%;overflow: auto;}#sk-container-id-2 input.sk-toggleable__control:checked~label.sk-toggleable__label-arrow:before {content: \"▾\";}#sk-container-id-2 div.sk-estimator input.sk-toggleable__control:checked~label.sk-toggleable__label {background-color: #d4ebff;}#sk-container-id-2 div.sk-label input.sk-toggleable__control:checked~label.sk-toggleable__label {background-color: #d4ebff;}#sk-container-id-2 input.sk-hidden--visually {border: 0;clip: rect(1px 1px 1px 1px);clip: rect(1px, 1px, 1px, 1px);height: 1px;margin: -1px;overflow: hidden;padding: 0;position: absolute;width: 1px;}#sk-container-id-2 div.sk-estimator {font-family: monospace;background-color: #f0f8ff;border: 1px dotted black;border-radius: 0.25em;box-sizing: border-box;margin-bottom: 0.5em;}#sk-container-id-2 div.sk-estimator:hover {background-color: #d4ebff;}#sk-container-id-2 div.sk-parallel-item::after {content: \"\";width: 100%;border-bottom: 1px solid gray;flex-grow: 1;}#sk-container-id-2 div.sk-label:hover label.sk-toggleable__label {background-color: #d4ebff;}#sk-container-id-2 div.sk-serial::before {content: \"\";position: absolute;border-left: 1px solid gray;box-sizing: border-box;top: 0;bottom: 0;left: 50%;z-index: 0;}#sk-container-id-2 div.sk-serial {display: flex;flex-direction: column;align-items: center;background-color: white;padding-right: 0.2em;padding-left: 0.2em;position: relative;}#sk-container-id-2 div.sk-item {position: relative;z-index: 1;}#sk-container-id-2 div.sk-parallel {display: flex;align-items: stretch;justify-content: center;background-color: white;position: relative;}#sk-container-id-2 div.sk-item::before, #sk-container-id-2 div.sk-parallel-item::before {content: \"\";position: absolute;border-left: 1px solid gray;box-sizing: border-box;top: 0;bottom: 0;left: 50%;z-index: -1;}#sk-container-id-2 div.sk-parallel-item {display: flex;flex-direction: column;z-index: 1;position: relative;background-color: white;}#sk-container-id-2 div.sk-parallel-item:first-child::after {align-self: flex-end;width: 50%;}#sk-container-id-2 div.sk-parallel-item:last-child::after {align-self: flex-start;width: 50%;}#sk-container-id-2 div.sk-parallel-item:only-child::after {width: 0;}#sk-container-id-2 div.sk-dashed-wrapped {border: 1px dashed gray;margin: 0 0.4em 0.5em 0.4em;box-sizing: border-box;padding-bottom: 0.4em;background-color: white;}#sk-container-id-2 div.sk-label label {font-family: monospace;font-weight: bold;display: inline-block;line-height: 1.2em;}#sk-container-id-2 div.sk-label-container {text-align: center;}#sk-container-id-2 div.sk-container {/* jupyter's `normalize.less` sets `[hidden] { display: none; }` but bootstrap.min.css set `[hidden] { display: none !important; }` so we also need the `!important` here to be able to override the default hidden behavior on the sphinx rendered scikit-learn.org. See: https://github.com/scikit-learn/scikit-learn/issues/21755 */display: inline-block !important;position: relative;}#sk-container-id-2 div.sk-text-repr-fallback {display: none;}</style><div id=\"sk-container-id-2\" class=\"sk-top-container\"><div class=\"sk-text-repr-fallback\"><pre>GridSearchCV(cv=4,\n",
       "             estimator=XGBClassifier(base_score=None, booster=None,\n",
       "                                     callbacks=None, colsample_bylevel=None,\n",
       "                                     colsample_bynode=None,\n",
       "                                     colsample_bytree=None, device=None,\n",
       "                                     early_stopping_rounds=None,\n",
       "                                     enable_categorical=False, eval_metric=None,\n",
       "                                     feature_types=None, gamma=None,\n",
       "                                     grow_policy=None, importance_type=None,\n",
       "                                     interaction_constraints=None,\n",
       "                                     learning_rate=None,...\n",
       "                                     max_delta_step=None, max_depth=None,\n",
       "                                     max_leaves=None, min_child_weight=None,\n",
       "                                     missing=nan, monotone_constraints=None,\n",
       "                                     multi_strategy=None, n_estimators=None,\n",
       "                                     n_jobs=None, num_parallel_tree=None,\n",
       "                                     random_state=42, ...),\n",
       "             param_grid={&#x27;learning_rate&#x27;: [0.01, 0.1], &#x27;max_depth&#x27;: [6, 12],\n",
       "                         &#x27;min_child_weight&#x27;: [3, 5], &#x27;n_estimators&#x27;: [300]},\n",
       "             refit=&#x27;recall&#x27;, scoring={&#x27;accuracy&#x27;, &#x27;recall&#x27;, &#x27;f1&#x27;, &#x27;precision&#x27;})</pre><b>In a Jupyter environment, please rerun this cell to show the HTML representation or trust the notebook. <br />On GitHub, the HTML representation is unable to render, please try loading this page with nbviewer.org.</b></div><div class=\"sk-container\" hidden><div class=\"sk-item sk-dashed-wrapped\"><div class=\"sk-label-container\"><div class=\"sk-label sk-toggleable\"><input class=\"sk-toggleable__control sk-hidden--visually\" id=\"sk-estimator-id-4\" type=\"checkbox\" ><label for=\"sk-estimator-id-4\" class=\"sk-toggleable__label sk-toggleable__label-arrow\">GridSearchCV</label><div class=\"sk-toggleable__content\"><pre>GridSearchCV(cv=4,\n",
       "             estimator=XGBClassifier(base_score=None, booster=None,\n",
       "                                     callbacks=None, colsample_bylevel=None,\n",
       "                                     colsample_bynode=None,\n",
       "                                     colsample_bytree=None, device=None,\n",
       "                                     early_stopping_rounds=None,\n",
       "                                     enable_categorical=False, eval_metric=None,\n",
       "                                     feature_types=None, gamma=None,\n",
       "                                     grow_policy=None, importance_type=None,\n",
       "                                     interaction_constraints=None,\n",
       "                                     learning_rate=None,...\n",
       "                                     max_delta_step=None, max_depth=None,\n",
       "                                     max_leaves=None, min_child_weight=None,\n",
       "                                     missing=nan, monotone_constraints=None,\n",
       "                                     multi_strategy=None, n_estimators=None,\n",
       "                                     n_jobs=None, num_parallel_tree=None,\n",
       "                                     random_state=42, ...),\n",
       "             param_grid={&#x27;learning_rate&#x27;: [0.01, 0.1], &#x27;max_depth&#x27;: [6, 12],\n",
       "                         &#x27;min_child_weight&#x27;: [3, 5], &#x27;n_estimators&#x27;: [300]},\n",
       "             refit=&#x27;recall&#x27;, scoring={&#x27;accuracy&#x27;, &#x27;recall&#x27;, &#x27;f1&#x27;, &#x27;precision&#x27;})</pre></div></div></div><div class=\"sk-parallel\"><div class=\"sk-parallel-item\"><div class=\"sk-item\"><div class=\"sk-label-container\"><div class=\"sk-label sk-toggleable\"><input class=\"sk-toggleable__control sk-hidden--visually\" id=\"sk-estimator-id-5\" type=\"checkbox\" ><label for=\"sk-estimator-id-5\" class=\"sk-toggleable__label sk-toggleable__label-arrow\">estimator: XGBClassifier</label><div class=\"sk-toggleable__content\"><pre>XGBClassifier(base_score=None, booster=None, callbacks=None,\n",
       "              colsample_bylevel=None, colsample_bynode=None,\n",
       "              colsample_bytree=None, device=None, early_stopping_rounds=None,\n",
       "              enable_categorical=False, eval_metric=None, feature_types=None,\n",
       "              gamma=None, grow_policy=None, importance_type=None,\n",
       "              interaction_constraints=None, learning_rate=None, max_bin=None,\n",
       "              max_cat_threshold=None, max_cat_to_onehot=None,\n",
       "              max_delta_step=None, max_depth=None, max_leaves=None,\n",
       "              min_child_weight=None, missing=nan, monotone_constraints=None,\n",
       "              multi_strategy=None, n_estimators=None, n_jobs=None,\n",
       "              num_parallel_tree=None, random_state=42, ...)</pre></div></div></div><div class=\"sk-serial\"><div class=\"sk-item\"><div class=\"sk-estimator sk-toggleable\"><input class=\"sk-toggleable__control sk-hidden--visually\" id=\"sk-estimator-id-6\" type=\"checkbox\" ><label for=\"sk-estimator-id-6\" class=\"sk-toggleable__label sk-toggleable__label-arrow\">XGBClassifier</label><div class=\"sk-toggleable__content\"><pre>XGBClassifier(base_score=None, booster=None, callbacks=None,\n",
       "              colsample_bylevel=None, colsample_bynode=None,\n",
       "              colsample_bytree=None, device=None, early_stopping_rounds=None,\n",
       "              enable_categorical=False, eval_metric=None, feature_types=None,\n",
       "              gamma=None, grow_policy=None, importance_type=None,\n",
       "              interaction_constraints=None, learning_rate=None, max_bin=None,\n",
       "              max_cat_threshold=None, max_cat_to_onehot=None,\n",
       "              max_delta_step=None, max_depth=None, max_leaves=None,\n",
       "              min_child_weight=None, missing=nan, monotone_constraints=None,\n",
       "              multi_strategy=None, n_estimators=None, n_jobs=None,\n",
       "              num_parallel_tree=None, random_state=42, ...)</pre></div></div></div></div></div></div></div></div></div></div>"
      ],
      "text/plain": [
       "GridSearchCV(cv=4,\n",
       "             estimator=XGBClassifier(base_score=None, booster=None,\n",
       "                                     callbacks=None, colsample_bylevel=None,\n",
       "                                     colsample_bynode=None,\n",
       "                                     colsample_bytree=None, device=None,\n",
       "                                     early_stopping_rounds=None,\n",
       "                                     enable_categorical=False, eval_metric=None,\n",
       "                                     feature_types=None, gamma=None,\n",
       "                                     grow_policy=None, importance_type=None,\n",
       "                                     interaction_constraints=None,\n",
       "                                     learning_rate=None,...\n",
       "                                     max_delta_step=None, max_depth=None,\n",
       "                                     max_leaves=None, min_child_weight=None,\n",
       "                                     missing=nan, monotone_constraints=None,\n",
       "                                     multi_strategy=None, n_estimators=None,\n",
       "                                     n_jobs=None, num_parallel_tree=None,\n",
       "                                     random_state=42, ...),\n",
       "             param_grid={'learning_rate': [0.01, 0.1], 'max_depth': [6, 12],\n",
       "                         'min_child_weight': [3, 5], 'n_estimators': [300]},\n",
       "             refit='recall', scoring={'accuracy', 'recall', 'f1', 'precision'})"
      ]
     },
     "execution_count": 95,
     "metadata": {},
     "output_type": "execute_result"
    }
   ],
   "source": [
    "%%time\n",
    "xgb_cv.fit(X_train,y_train)"
   ]
  },
  {
   "cell_type": "code",
   "execution_count": 96,
   "id": "0b60bebb",
   "metadata": {},
   "outputs": [
    {
     "data": {
      "text/plain": [
       "0.18570602398262676"
      ]
     },
     "execution_count": 96,
     "metadata": {},
     "output_type": "execute_result"
    }
   ],
   "source": [
    "xgb_cv.best_score_"
   ]
  },
  {
   "cell_type": "code",
   "execution_count": 97,
   "id": "b088da47",
   "metadata": {},
   "outputs": [
    {
     "data": {
      "text/plain": [
       "{'learning_rate': 0.1,\n",
       " 'max_depth': 12,\n",
       " 'min_child_weight': 5,\n",
       " 'n_estimators': 300}"
      ]
     },
     "execution_count": 97,
     "metadata": {},
     "output_type": "execute_result"
    }
   ],
   "source": [
    "xgb_cv.best_params_"
   ]
  },
  {
   "cell_type": "markdown",
   "id": "7e2b5a71",
   "metadata": {},
   "source": [
    "We will now extract the scores by using the function make_results() earlier on the XGboost Model from the traning dataset and join it with the results of the random forest model to compare the scores from both models."
   ]
  },
  {
   "cell_type": "code",
   "execution_count": 98,
   "id": "3cd044fb",
   "metadata": {},
   "outputs": [
    {
     "data": {
      "text/html": [
       "<div>\n",
       "<style scoped>\n",
       "    .dataframe tbody tr th:only-of-type {\n",
       "        vertical-align: middle;\n",
       "    }\n",
       "\n",
       "    .dataframe tbody tr th {\n",
       "        vertical-align: top;\n",
       "    }\n",
       "\n",
       "    .dataframe thead th {\n",
       "        text-align: right;\n",
       "    }\n",
       "</style>\n",
       "<table border=\"1\" class=\"dataframe\">\n",
       "  <thead>\n",
       "    <tr style=\"text-align: right;\">\n",
       "      <th></th>\n",
       "      <th>model</th>\n",
       "      <th>precision</th>\n",
       "      <th>recall</th>\n",
       "      <th>F1</th>\n",
       "      <th>accuracy</th>\n",
       "    </tr>\n",
       "  </thead>\n",
       "  <tbody>\n",
       "    <tr>\n",
       "      <th>0</th>\n",
       "      <td>Rf_cv</td>\n",
       "      <td>0.474219</td>\n",
       "      <td>0.138056</td>\n",
       "      <td>0.213815</td>\n",
       "      <td>0.819844</td>\n",
       "    </tr>\n",
       "    <tr>\n",
       "      <th>0</th>\n",
       "      <td>XGB cv</td>\n",
       "      <td>0.422735</td>\n",
       "      <td>0.185706</td>\n",
       "      <td>0.258021</td>\n",
       "      <td>0.810519</td>\n",
       "    </tr>\n",
       "  </tbody>\n",
       "</table>\n",
       "</div>"
      ],
      "text/plain": [
       "    model  precision    recall        F1  accuracy\n",
       "0   Rf_cv   0.474219  0.138056  0.213815  0.819844\n",
       "0  XGB cv   0.422735  0.185706  0.258021  0.810519"
      ]
     },
     "execution_count": 98,
     "metadata": {},
     "output_type": "execute_result"
    }
   ],
   "source": [
    "xgb_cv_results = make_results('XGB cv', xgb_cv, 'recall')\n",
    "results = pd.concat([results, xgb_cv_results], axis=0)\n",
    "results"
   ]
  },
  {
   "cell_type": "markdown",
   "id": "9600aaa1",
   "metadata": {},
   "source": [
    "### Model Selection"
   ]
  },
  {
   "cell_type": "markdown",
   "id": "1a5c3c79",
   "metadata": {},
   "source": [
    "we will check the prediction of both Random forest and XGBoost on the validation data ansd see which model performs better. The better of the two models will be chooses as the champion model"
   ]
  },
  {
   "cell_type": "code",
   "execution_count": 99,
   "id": "f93b7c05",
   "metadata": {},
   "outputs": [],
   "source": [
    "#Model Selection \n",
    "rf_val_preds=rf_cv.best_estimator_.predict(X_val)\n"
   ]
  },
  {
   "cell_type": "code",
   "execution_count": 100,
   "id": "c81b1e0f",
   "metadata": {},
   "outputs": [],
   "source": [
    "def get_test_scores(model_name:str, preds, y_test_data):\n",
    "    '''\n",
    "    Generate a table of test scores.\n",
    "\n",
    "    In:\n",
    "        model_name (string): Your choice: how the model will be named in the output table\n",
    "        preds: numpy array of test predictions\n",
    "        y_test_data: numpy array of y_test data\n",
    "\n",
    "    Out:\n",
    "        table: a pandas df of precision, recall, f1, and accuracy scores for your model\n",
    "    '''\n",
    "    accuracy = accuracy_score(y_test_data, preds)\n",
    "    precision = precision_score(y_test_data, preds)\n",
    "    recall = recall_score(y_test_data, preds)\n",
    "    f1 = f1_score(y_test_data, preds)\n",
    "\n",
    "    table = pd.DataFrame({'model': [model_name],\n",
    "                          'precision': [precision],\n",
    "                          'recall': [recall],\n",
    "                          'F1': [f1],\n",
    "                          'accuracy': [accuracy]\n",
    "                          })\n",
    "\n",
    "    return table"
   ]
  },
  {
   "cell_type": "code",
   "execution_count": 102,
   "id": "999751ae",
   "metadata": {},
   "outputs": [
    {
     "data": {
      "text/html": [
       "<div>\n",
       "<style scoped>\n",
       "    .dataframe tbody tr th:only-of-type {\n",
       "        vertical-align: middle;\n",
       "    }\n",
       "\n",
       "    .dataframe tbody tr th {\n",
       "        vertical-align: top;\n",
       "    }\n",
       "\n",
       "    .dataframe thead th {\n",
       "        text-align: right;\n",
       "    }\n",
       "</style>\n",
       "<table border=\"1\" class=\"dataframe\">\n",
       "  <thead>\n",
       "    <tr style=\"text-align: right;\">\n",
       "      <th></th>\n",
       "      <th>model</th>\n",
       "      <th>precision</th>\n",
       "      <th>recall</th>\n",
       "      <th>F1</th>\n",
       "      <th>accuracy</th>\n",
       "    </tr>\n",
       "  </thead>\n",
       "  <tbody>\n",
       "    <tr>\n",
       "      <th>0</th>\n",
       "      <td>Rf_cv</td>\n",
       "      <td>0.474219</td>\n",
       "      <td>0.138056</td>\n",
       "      <td>0.213815</td>\n",
       "      <td>0.819844</td>\n",
       "    </tr>\n",
       "    <tr>\n",
       "      <th>0</th>\n",
       "      <td>XGB cv</td>\n",
       "      <td>0.422735</td>\n",
       "      <td>0.185706</td>\n",
       "      <td>0.258021</td>\n",
       "      <td>0.810519</td>\n",
       "    </tr>\n",
       "    <tr>\n",
       "      <th>0</th>\n",
       "      <td>RF val</td>\n",
       "      <td>0.413043</td>\n",
       "      <td>0.120000</td>\n",
       "      <td>0.185971</td>\n",
       "      <td>0.813875</td>\n",
       "    </tr>\n",
       "  </tbody>\n",
       "</table>\n",
       "</div>"
      ],
      "text/plain": [
       "    model  precision    recall        F1  accuracy\n",
       "0   Rf_cv   0.474219  0.138056  0.213815  0.819844\n",
       "0  XGB cv   0.422735  0.185706  0.258021  0.810519\n",
       "0  RF val   0.413043  0.120000  0.185971  0.813875"
      ]
     },
     "execution_count": 102,
     "metadata": {},
     "output_type": "execute_result"
    }
   ],
   "source": [
    "#Get validation scores for RF model\n",
    "rf_val_scores = get_test_scores('RF val', rf_val_preds, y_val)\n",
    "\n",
    "# Append to the results table\n",
    "results = pd.concat([results, rf_val_scores], axis=0)\n",
    "results"
   ]
  },
  {
   "cell_type": "code",
   "execution_count": 103,
   "id": "863a6fc4",
   "metadata": {},
   "outputs": [
    {
     "data": {
      "text/html": [
       "<div>\n",
       "<style scoped>\n",
       "    .dataframe tbody tr th:only-of-type {\n",
       "        vertical-align: middle;\n",
       "    }\n",
       "\n",
       "    .dataframe tbody tr th {\n",
       "        vertical-align: top;\n",
       "    }\n",
       "\n",
       "    .dataframe thead th {\n",
       "        text-align: right;\n",
       "    }\n",
       "</style>\n",
       "<table border=\"1\" class=\"dataframe\">\n",
       "  <thead>\n",
       "    <tr style=\"text-align: right;\">\n",
       "      <th></th>\n",
       "      <th>model</th>\n",
       "      <th>precision</th>\n",
       "      <th>recall</th>\n",
       "      <th>F1</th>\n",
       "      <th>accuracy</th>\n",
       "    </tr>\n",
       "  </thead>\n",
       "  <tbody>\n",
       "    <tr>\n",
       "      <th>0</th>\n",
       "      <td>Rf_cv</td>\n",
       "      <td>0.474219</td>\n",
       "      <td>0.138056</td>\n",
       "      <td>0.213815</td>\n",
       "      <td>0.819844</td>\n",
       "    </tr>\n",
       "    <tr>\n",
       "      <th>0</th>\n",
       "      <td>XGB cv</td>\n",
       "      <td>0.422735</td>\n",
       "      <td>0.185706</td>\n",
       "      <td>0.258021</td>\n",
       "      <td>0.810519</td>\n",
       "    </tr>\n",
       "    <tr>\n",
       "      <th>0</th>\n",
       "      <td>RF val</td>\n",
       "      <td>0.413043</td>\n",
       "      <td>0.120000</td>\n",
       "      <td>0.185971</td>\n",
       "      <td>0.813875</td>\n",
       "    </tr>\n",
       "    <tr>\n",
       "      <th>0</th>\n",
       "      <td>XGBval</td>\n",
       "      <td>0.403061</td>\n",
       "      <td>0.166316</td>\n",
       "      <td>0.235469</td>\n",
       "      <td>0.808653</td>\n",
       "    </tr>\n",
       "  </tbody>\n",
       "</table>\n",
       "</div>"
      ],
      "text/plain": [
       "    model  precision    recall        F1  accuracy\n",
       "0   Rf_cv   0.474219  0.138056  0.213815  0.819844\n",
       "0  XGB cv   0.422735  0.185706  0.258021  0.810519\n",
       "0  RF val   0.413043  0.120000  0.185971  0.813875\n",
       "0  XGBval   0.403061  0.166316  0.235469  0.808653"
      ]
     },
     "execution_count": 103,
     "metadata": {},
     "output_type": "execute_result"
    }
   ],
   "source": [
    "#Use XGBoost model to predict on validation data\n",
    "xgb_val_pred=xgb_cv.best_estimator_.predict(X_val)\n",
    "#Get validation score for XGboost\n",
    "xgb_val_scores=get_test_scores('XGBval', xgb_val_pred, y_val)\n",
    "#Append to the result table \n",
    "results = pd.concat([results, xgb_val_scores], axis=0)\n",
    "results"
   ]
  },
  {
   "cell_type": "markdown",
   "id": "df62ae7b",
   "metadata": {},
   "source": [
    "The XGBoost validation score was also low but it was a better model than Random Forest so we will choose it."
   ]
  },
  {
   "cell_type": "markdown",
   "id": "fcfe2912",
   "metadata": {},
   "source": [
    "## PACE: execute "
   ]
  },
  {
   "cell_type": "markdown",
   "id": "48bc488e",
   "metadata": {},
   "source": [
    "We will now use the better model which is XGBoost model to predict on the test dataset."
   ]
  },
  {
   "cell_type": "code",
   "execution_count": 105,
   "id": "3e9dce0d",
   "metadata": {},
   "outputs": [
    {
     "data": {
      "text/html": [
       "<div>\n",
       "<style scoped>\n",
       "    .dataframe tbody tr th:only-of-type {\n",
       "        vertical-align: middle;\n",
       "    }\n",
       "\n",
       "    .dataframe tbody tr th {\n",
       "        vertical-align: top;\n",
       "    }\n",
       "\n",
       "    .dataframe thead th {\n",
       "        text-align: right;\n",
       "    }\n",
       "</style>\n",
       "<table border=\"1\" class=\"dataframe\">\n",
       "  <thead>\n",
       "    <tr style=\"text-align: right;\">\n",
       "      <th></th>\n",
       "      <th>model</th>\n",
       "      <th>precision</th>\n",
       "      <th>recall</th>\n",
       "      <th>F1</th>\n",
       "      <th>accuracy</th>\n",
       "    </tr>\n",
       "  </thead>\n",
       "  <tbody>\n",
       "    <tr>\n",
       "      <th>0</th>\n",
       "      <td>Rf_cv</td>\n",
       "      <td>0.474219</td>\n",
       "      <td>0.138056</td>\n",
       "      <td>0.213815</td>\n",
       "      <td>0.819844</td>\n",
       "    </tr>\n",
       "    <tr>\n",
       "      <th>0</th>\n",
       "      <td>XGB cv</td>\n",
       "      <td>0.422735</td>\n",
       "      <td>0.185706</td>\n",
       "      <td>0.258021</td>\n",
       "      <td>0.810519</td>\n",
       "    </tr>\n",
       "    <tr>\n",
       "      <th>0</th>\n",
       "      <td>RF val</td>\n",
       "      <td>0.413043</td>\n",
       "      <td>0.120000</td>\n",
       "      <td>0.185971</td>\n",
       "      <td>0.813875</td>\n",
       "    </tr>\n",
       "    <tr>\n",
       "      <th>0</th>\n",
       "      <td>XGBval</td>\n",
       "      <td>0.403061</td>\n",
       "      <td>0.166316</td>\n",
       "      <td>0.235469</td>\n",
       "      <td>0.808653</td>\n",
       "    </tr>\n",
       "    <tr>\n",
       "      <th>0</th>\n",
       "      <td>Xgb_test</td>\n",
       "      <td>0.398577</td>\n",
       "      <td>0.176656</td>\n",
       "      <td>0.244809</td>\n",
       "      <td>0.806713</td>\n",
       "    </tr>\n",
       "  </tbody>\n",
       "</table>\n",
       "</div>"
      ],
      "text/plain": [
       "      model  precision    recall        F1  accuracy\n",
       "0     Rf_cv   0.474219  0.138056  0.213815  0.819844\n",
       "0    XGB cv   0.422735  0.185706  0.258021  0.810519\n",
       "0    RF val   0.413043  0.120000  0.185971  0.813875\n",
       "0    XGBval   0.403061  0.166316  0.235469  0.808653\n",
       "0  Xgb_test   0.398577  0.176656  0.244809  0.806713"
      ]
     },
     "execution_count": 105,
     "metadata": {},
     "output_type": "execute_result"
    }
   ],
   "source": [
    "#Use XG boost model to predict on test data\n",
    "xgb_test_pred=xgb_cv.best_estimator_.predict(X_test)\n",
    "#Get test scores for XGBoost model\n",
    "xgb_test_scores=get_test_scores('Xgb_test', xgb_test_pred, y_test)\n",
    "#Append the results\n",
    "results=pd.concat([results, xgb_test_scores], axis=0)\n",
    "results"
   ]
  },
  {
   "cell_type": "markdown",
   "id": "eb5092cb",
   "metadata": {},
   "source": [
    "The recall improved to 17.6 percent from 16.6% on validaton data, whereas precision remained almost same. Nonetheless, this is stil within the acceptable range for performance discrepancy between validation and test scores."
   ]
  },
  {
   "cell_type": "markdown",
   "id": "7a9699a5",
   "metadata": {},
   "source": [
    "### Confusion Matrix"
   ]
  },
  {
   "cell_type": "code",
   "execution_count": 106,
   "id": "848cfbd7",
   "metadata": {},
   "outputs": [
    {
     "data": {
      "text/plain": [
       "<sklearn.metrics._plot.confusion_matrix.ConfusionMatrixDisplay at 0x1443ac110>"
      ]
     },
     "execution_count": 106,
     "metadata": {},
     "output_type": "execute_result"
    },
    {
     "data": {
      "image/png": "[encoded data removed]",
      "text/plain": [
       "<Figure size 640x480 with 2 Axes>"
      ]
     },
     "metadata": {},
     "output_type": "display_data"
    }
   ],
   "source": [
    "#generating array of values\n",
    "cm=confusion_matrix(y_test, xgb_test_pred, labels=xgb_cv.classes_)\n",
    "#Consufion matrix display\n",
    "display=ConfusionMatrixDisplay(confusion_matrix=cm, display_labels=['retained', 'churned'])\n",
    "display.plot()"
   ]
  },
  {
   "cell_type": "markdown",
   "id": "4d7d0e15",
   "metadata": {},
   "source": [
    "The model predcited four time as many false negatives as flase positives and correctly identified only 18 percent who churned. Overall XGBoost model performed better than random forest model but the model was able to give an F1 score of only 24.4 percent  "
   ]
  },
  {
   "cell_type": "markdown",
   "id": "a4894e7f",
   "metadata": {},
   "source": [
    "### Feature Importance"
   ]
  },
  {
   "cell_type": "markdown",
   "id": "ad4cedfb",
   "metadata": {},
   "source": [
    "we will use `plot_importance` function to inspect the most important features of the model"
   ]
  },
  {
   "cell_type": "code",
   "execution_count": 107,
   "id": "a382dc68",
   "metadata": {},
   "outputs": [
    {
     "data": {
      "image/png": "[encoded data removed]",
      "text/plain": [
       "<Figure size 640x480 with 1 Axes>"
      ]
     },
     "metadata": {},
     "output_type": "display_data"
    }
   ],
   "source": [
    "plot_importance(xgb_cv.best_estimator_);"
   ]
  },
  {
   "cell_type": "markdown",
   "id": "176f823f",
   "metadata": {},
   "source": [
    "6 of the most important features are derived from features engineering which tells us why feature engineering is so important. The data seems not to be predictive of the choosen target. "
   ]
  },
  {
   "cell_type": "markdown",
   "id": "51914f04",
   "metadata": {},
   "source": [
    "### Conclusion"
   ]
  },
  {
   "cell_type": "markdown",
   "id": "b207ed53",
   "metadata": {},
   "source": [
    "The model cannot predict the churn rate but it can guide the management to guide them to futher exploratory efforts"
   ]
  }
 ],
 "metadata": {
  "kernelspec": {
   "display_name": "Python 3 (ipykernel)",
   "language": "python",
   "name": "python3"
  },
  "language_info": {
   "codemirror_mode": {
    "name": "ipython",
    "version": 3
   },
   "file_extension": ".py",
   "mimetype": "text/x-python",
   "name": "python",
   "nbconvert_exporter": "python",
   "pygments_lexer": "ipython3",
   "version": "3.11.3"
  }
 },
 "nbformat": 4,
 "nbformat_minor": 5
}
